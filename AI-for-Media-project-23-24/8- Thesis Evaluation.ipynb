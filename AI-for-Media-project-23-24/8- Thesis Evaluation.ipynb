{
 "cells": [
  {
   "cell_type": "markdown",
   "id": "115bc36e-2cbc-4c86-82e4-bde9c78034a9",
   "metadata": {},
   "source": [
    "# Evaluation metrics"
   ]
  },
  {
   "cell_type": "code",
   "execution_count": null,
   "id": "4e0ebbbe-eed4-4ad8-bcf0-44c6a457e355",
   "metadata": {},
   "outputs": [],
   "source": [
    "# Chi-squared"
   ]
  }
 ],
 "metadata": {
  "kernelspec": {
   "display_name": "Python 3 (ipykernel)",
   "language": "python",
   "name": "python3"
  },
  "language_info": {
   "codemirror_mode": {
    "name": "ipython",
    "version": 3
   },
   "file_extension": ".py",
   "mimetype": "text/x-python",
   "name": "python",
   "nbconvert_exporter": "python",
   "pygments_lexer": "ipython3",
   "version": "3.9.16"
  }
 },
 "nbformat": 4,
 "nbformat_minor": 5
}
