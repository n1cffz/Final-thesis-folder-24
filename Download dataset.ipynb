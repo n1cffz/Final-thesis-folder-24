{
 "cells": [
  {
   "cell_type": "code",
   "execution_count": null,
   "metadata": {},
   "outputs": [],
   "source": [
    "# https://n19h9ktpow.clg07azjl.paperspacegradient.com/files/AI-for-Media-project-23-24/my-classification-dataset/happy-face/pinterest_1000432504709301803.jpg?_xsrf=2%7C52b6cb79%7C888f1e11d85b6189e0f4fecff87bcccf%7C1725580614\n",
    "# https://n19h9ktpow.clg07azjl.paperspacegradient.com/files/AI-for-Media-project-23-24/my-classification-dataset/angry-face/pinterest_1002684304524927721.jpg?_xsrf=2%7C52b6cb79%7C888f1e11d85b6189e0f4fecff87bcccf%7C1725580614\n",
    "# https://n19h9ktpow.clg07azjl.paperspacegradient.com/files/AI-for-Media-project-23-24/my-classification-dataset/neutral-face/pinterest_1002543567024173279.jpg?_xsrf=2%7C52b6cb79%7C888f1e11d85b6189e0f4fecff87bcccf%7C1725580614\n",
    "# https://n19h9ktpow.clg07azjl.paperspacegradient.com/files/AI-for-Media-project-23-24/my-classification-dataset/sad-face/pinterest_1000010292237095266.jpg?_xsrf=2%7C52b6cb79%7C888f1e11d85b6189e0f4fecff87bcccf%7C1725580614"
   ]
  },
  {
   "cell_type": "code",
   "execution_count": null,
   "metadata": {},
   "outputs": [],
   "source": []
  }
 ],
 "metadata": {
  "kernelspec": {
   "display_name": "Python 3 (ipykernel)",
   "language": "python",
   "name": "python3"
  },
  "orig_nbformat": 4
 },
 "nbformat": 4,
 "nbformat_minor": 2
}
