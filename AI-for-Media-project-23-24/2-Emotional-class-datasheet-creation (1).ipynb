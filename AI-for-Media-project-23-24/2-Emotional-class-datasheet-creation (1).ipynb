{
 "cells": [
  {
   "cell_type": "markdown",
   "metadata": {},
   "source": [
    "# 2. Data sheet for class images"
   ]
  },
  {
   "cell_type": "code",
   "execution_count": 5,
   "metadata": {
    "execution": {
     "iopub.execute_input": "2024-09-04T21:57:27.468299Z",
     "iopub.status.busy": "2024-09-04T21:57:27.466991Z",
     "iopub.status.idle": "2024-09-04T21:57:28.408772Z",
     "shell.execute_reply": "2024-09-04T21:57:28.407639Z",
     "shell.execute_reply.started": "2024-09-04T21:57:27.468240Z"
    }
   },
   "outputs": [],
   "source": [
    "import os\n",
    "import pandas as pd\n",
    "\n",
    "# Define the directory where images are saved, with each emotional class in a separate folder\n",
    "data_directory = '/Users/nixi/Desktop/Final-thesis-folder-24/AI-for-Media-project-23-24/my-classification-dataset'\n",
    "\n",
    "# Initialize an empty list to store image data\n",
    "all_data = []\n",
    "\n",
    "# Iterate through each emotional class directory\n",
    "for emotion_class in os.listdir(data_directory):\n",
    "    emotion_dir = os.path.join(data_directory, emotion_class)\n",
    "    if os.path.isdir(emotion_dir):\n",
    "        # Iterate through image files in the emotional class directory\n",
    "        for image_file in os.listdir(emotion_dir):\n",
    "            # Assuming file names contain relevant information\n",
    "            # Extract image URL and other metadata as needed\n",
    "            image_url = os.path.join(emotion_dir, image_file)\n",
    "            # Append extracted data to the list\n",
    "            all_data.append({\"Image URL\": f'file://{image_url}', \"Emotional Class\": emotion_class})\n",
    "\n",
    "# Create a DataFrame from all data\n",
    "df = pd.DataFrame(all_data)\n",
    "\n",
    "# Export the DataFrame to a CSV file\n",
    "csv_file_path = \"primarydataset.csv\"\n",
    "df.to_csv(csv_file_path, index=False)"
   ]
  },
  {
   "cell_type": "code",
   "execution_count": 6,
   "metadata": {
    "execution": {
     "iopub.execute_input": "2024-09-05T11:44:22.798091Z",
     "iopub.status.busy": "2024-09-05T11:44:22.797836Z",
     "iopub.status.idle": "2024-09-05T11:44:22.933783Z",
     "shell.execute_reply": "2024-09-05T11:44:22.932979Z",
     "shell.execute_reply.started": "2024-09-05T11:44:22.798071Z"
    }
   },
   "outputs": [
    {
     "name": "stdout",
     "output_type": "stream",
     "text": [
      "                                              Image URL Emotional Class\n",
      "0     file:///Users/nixi/Desktop/Final-thesis-folder...    neutral-face\n",
      "1     file:///Users/nixi/Desktop/Final-thesis-folder...    neutral-face\n",
      "2     file:///Users/nixi/Desktop/Final-thesis-folder...    neutral-face\n",
      "3     file:///Users/nixi/Desktop/Final-thesis-folder...    neutral-face\n",
      "4     file:///Users/nixi/Desktop/Final-thesis-folder...    neutral-face\n",
      "...                                                 ...             ...\n",
      "4294  file:///Users/nixi/Desktop/Final-thesis-folder...      angry-face\n",
      "4295  file:///Users/nixi/Desktop/Final-thesis-folder...      angry-face\n",
      "4296  file:///Users/nixi/Desktop/Final-thesis-folder...      angry-face\n",
      "4297  file:///Users/nixi/Desktop/Final-thesis-folder...      angry-face\n",
      "4298  file:///Users/nixi/Desktop/Final-thesis-folder...      angry-face\n",
      "\n",
      "[4299 rows x 2 columns]\n"
     ]
    }
   ],
   "source": [
    "# Verify the DataFrame\n",
    "df = pd.read_csv('/Users/nixi/Desktop/Final-thesis-folder-24/AI-for-Media-project-23-24/primarydataset.csv')\n",
    "\n",
    "# Specify the data types for each column\n",
    "dtype = {'Column1': str, 'Column2': int}  # Update 'Column1' and 'Column2' with your actual column names and data types\n",
    "\n",
    "# Read the CSV file with specified data types\n",
    "df = pd.read_csv('/Users/nixi/Desktop/Final-thesis-folder-24/AI-for-Media-project-23-24/primarydataset.csv', dtype=dtype)\n",
    "# Display the DataFrame\n",
    "print(df)"
   ]
  }
 ],
 "metadata": {
  "kernelspec": {
   "display_name": "Python 3 (ipykernel)",
   "language": "python",
   "name": "python3"
  },
  "language_info": {
   "codemirror_mode": {
    "name": "ipython",
    "version": 3
   },
   "file_extension": ".py",
   "mimetype": "text/x-python",
   "name": "python",
   "nbconvert_exporter": "python",
   "pygments_lexer": "ipython3",
   "version": "3.11.9"
  }
 },
 "nbformat": 4,
 "nbformat_minor": 4
}
