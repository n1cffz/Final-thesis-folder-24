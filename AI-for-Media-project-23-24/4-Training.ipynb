{
 "cells": [
  {
   "cell_type": "markdown",
   "id": "2e19b005-7d00-4932-8089-d4cd7b4092ae",
   "metadata": {},
   "source": [
    "### Connect the facial andmarkings to real time web cam detection"
   ]
  },
  {
   "cell_type": "code",
   "execution_count": 3,
   "id": "ebca2967-7bd0-404f-8690-549ca6b8fd90",
   "metadata": {
    "execution": {
     "iopub.execute_input": "2024-09-05T14:43:08.405347Z",
     "iopub.status.busy": "2024-09-05T14:43:08.404830Z",
     "iopub.status.idle": "2024-09-05T14:43:08.416104Z",
     "shell.execute_reply": "2024-09-05T14:43:08.414231Z",
     "shell.execute_reply.started": "2024-09-05T14:43:08.405310Z"
    }
   },
   "outputs": [
    {
     "name": "stdout",
     "output_type": "stream",
     "text": [
      "Cannot open camera\n"
     ]
    },
    {
     "name": "stderr",
     "output_type": "stream",
     "text": [
      "[ WARN:0@177.936] global /io/opencv/modules/videoio/src/cap_v4l.cpp (902) open VIDEOIO(V4L2:/dev/video0): can't open camera by index\n"
     ]
    }
   ],
   "source": [
    "import cv2\n",
    "\n",
    "cap = cv2.VideoCapture(0)  # Try 1 or other indices if needed\n",
    "\n",
    "if not cap.isOpened():\n",
    "    print(\"Cannot open camera\")\n",
    "else:\n",
    "    print(\"Camera is accessible\")\n",
    "    cap.release()"
   ]
  },
  {
   "cell_type": "code",
   "execution_count": 7,
   "id": "cef87a75-25a3-4cee-98ff-41ec5ff8f6c9",
   "metadata": {
    "execution": {
     "iopub.execute_input": "2024-09-05T14:48:05.597677Z",
     "iopub.status.busy": "2024-09-05T14:48:05.596358Z",
     "iopub.status.idle": "2024-09-05T14:48:06.347349Z",
     "shell.execute_reply": "2024-09-05T14:48:06.345896Z",
     "shell.execute_reply.started": "2024-09-05T14:48:05.597621Z"
    }
   },
   "outputs": [
    {
     "name": "stdout",
     "output_type": "stream",
     "text": [
      "Error: Could not open video stream.\n"
     ]
    },
    {
     "name": "stderr",
     "output_type": "stream",
     "text": [
      "[ WARN:0@475.869] global /io/opencv/modules/videoio/src/cap_v4l.cpp (902) open VIDEOIO(V4L2:/dev/video0): can't open camera by index\n"
     ]
    }
   ],
   "source": [
    "import cv2\n",
    "import numpy as np\n",
    "from tensorflow.keras.models import load_model\n",
    "from tensorflow.keras.preprocessing.image import img_to_array\n",
    "\n",
    "# Load the Keras pre-trained model\n",
    "model = load_model('/notebooks/AI-for-Media-project-23-24/model_weights.h5')\n",
    "\n",
    "# Emotion classes (adjust based on your model's output)\n",
    "emotion_classes = ['Happy', 'Sad', 'Angry', 'Neutral']\n",
    "\n",
    "# Open the webcam\n",
    "cap = cv2.VideoCapture(0)\n",
    "\n",
    "if not cap.isOpened():\n",
    "    print(\"Error: Could not open video stream.\")\n",
    "else:\n",
    "    while True:\n",
    "        # Capture frame-by-frame from the webcam\n",
    "        ret, frame = cap.read()\n",
    "\n",
    "        if not ret:\n",
    "            print(\"Failed to grab frame\")\n",
    "            break\n",
    "\n",
    "        # Convert frame to grayscale and resize to match model input\n",
    "        gray_frame = cv2.cvtColor(frame, cv2.COLOR_BGR2GRAY)\n",
    "        resized_frame = cv2.resize(gray_frame, (64, 64))\n",
    "\n",
    "        # Preprocess the image for the Keras model\n",
    "        input_frame = img_to_array(resized_frame)  # Convert to array\n",
    "        input_frame = np.expand_dims(input_frame, axis=0)  # Add batch dimension\n",
    "        input_frame = input_frame.astype('float32') / 255.0  # Normalize\n",
    "\n",
    "        # Predict the emotion\n",
    "        prediction = model.predict(input_frame)\n",
    "        predicted_emotion = emotion_classes[np.argmax(prediction)]\n",
    "\n",
    "        # Display the predicted emotion on the frame\n",
    "        cv2.putText(frame, f'Emotion: {predicted_emotion}', (10, 30), cv2.FONT_HERSHEY_SIMPLEX, 1, (255, 0, 0), 2)\n",
    "\n",
    "        # Display the resulting frame\n",
    "        cv2.imshow('Webcam Emotion Detection', frame)\n",
    "\n",
    "        # Break the loop if 'q' is pressed\n",
    "        if cv2.waitKey(1) & 0xFF == ord('q'):\n",
    "            break\n",
    "\n",
    "    # Release the capture and close windows\n",
    "    cap.release()\n",
    "    cv2.destroyAllWindows()\n"
   ]
  }
 ],
 "metadata": {
  "kernelspec": {
   "display_name": "Python 3 (ipykernel)",
   "language": "python",
   "name": "python3"
  },
  "language_info": {
   "codemirror_mode": {
    "name": "ipython",
    "version": 3
   },
   "file_extension": ".py",
   "mimetype": "text/x-python",
   "name": "python",
   "nbconvert_exporter": "python",
   "pygments_lexer": "ipython3",
   "version": "3.9.16"
  }
 },
 "nbformat": 4,
 "nbformat_minor": 5
}
