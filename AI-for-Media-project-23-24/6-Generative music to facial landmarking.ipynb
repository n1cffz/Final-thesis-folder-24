{
 "cells": [
  {
   "cell_type": "markdown",
   "id": "d125591b-5f9e-45fa-8f92-9a897f87c553",
   "metadata": {},
   "source": [
    "### Generate music using LSTM\n",
    "\n",
    " - code adapted from https://www.kaggle.com/code/ohseokkim/music-generation-let-s-enjoy-new-music/notebook\n",
    " - https://git.arts.ac.uk/lmccallum/STEM-4-Creatives-22-23/blob/main/STEM-Week-5-Task-Solutions.ipynb\n",
    "- audio classification code adapted from https://git.arts.ac.uk/tbroad/AI-4-Media-23-24/blob/main/Week-6a-Audio-classification/01-train-audio-classifier-solution.ipynb"
   ]
  },
  {
   "cell_type": "code",
   "execution_count": 3,
   "id": "bbc32797",
   "metadata": {},
   "outputs": [
    {
     "name": "stdout",
     "output_type": "stream",
     "text": [
      "Collecting music21\n",
      "  Using cached music21-9.1.0-py3-none-any.whl.metadata (4.8 kB)\n",
      "Requirement already satisfied: numpy in /Users/nixi/Desktop/Final-thesis-folder-24/.conda/lib/python3.11/site-packages (1.26.4)\n",
      "Requirement already satisfied: pandas in /Users/nixi/Desktop/Final-thesis-folder-24/.conda/lib/python3.11/site-packages (2.2.2)\n",
      "Requirement already satisfied: scikit-learn in /Users/nixi/Desktop/Final-thesis-folder-24/.conda/lib/python3.11/site-packages (1.5.1)\n",
      "Requirement already satisfied: tensorflow in /Users/nixi/Desktop/Final-thesis-folder-24/.conda/lib/python3.11/site-packages (2.17.0)\n",
      "Collecting chardet (from music21)\n",
      "  Using cached chardet-5.2.0-py3-none-any.whl.metadata (3.4 kB)\n",
      "Requirement already satisfied: joblib in /Users/nixi/Desktop/Final-thesis-folder-24/.conda/lib/python3.11/site-packages (from music21) (1.4.2)\n",
      "Collecting jsonpickle (from music21)\n",
      "  Downloading jsonpickle-3.3.0-py3-none-any.whl.metadata (8.3 kB)\n",
      "Requirement already satisfied: matplotlib in /Users/nixi/Desktop/Final-thesis-folder-24/.conda/lib/python3.11/site-packages (from music21) (3.9.2)\n",
      "Collecting more-itertools (from music21)\n",
      "  Downloading more_itertools-10.5.0-py3-none-any.whl.metadata (36 kB)\n",
      "Requirement already satisfied: requests in /Users/nixi/Desktop/Final-thesis-folder-24/.conda/lib/python3.11/site-packages (from music21) (2.32.3)\n",
      "Collecting webcolors>=1.5 (from music21)\n",
      "  Downloading webcolors-24.8.0-py3-none-any.whl.metadata (2.6 kB)\n",
      "Requirement already satisfied: python-dateutil>=2.8.2 in /Users/nixi/Desktop/Final-thesis-folder-24/.conda/lib/python3.11/site-packages (from pandas) (2.9.0)\n",
      "Requirement already satisfied: pytz>=2020.1 in /Users/nixi/Desktop/Final-thesis-folder-24/.conda/lib/python3.11/site-packages (from pandas) (2024.1)\n",
      "Requirement already satisfied: tzdata>=2022.7 in /Users/nixi/Desktop/Final-thesis-folder-24/.conda/lib/python3.11/site-packages (from pandas) (2024.1)\n",
      "Requirement already satisfied: scipy>=1.6.0 in /Users/nixi/Desktop/Final-thesis-folder-24/.conda/lib/python3.11/site-packages (from scikit-learn) (1.14.1)\n",
      "Requirement already satisfied: threadpoolctl>=3.1.0 in /Users/nixi/Desktop/Final-thesis-folder-24/.conda/lib/python3.11/site-packages (from scikit-learn) (3.5.0)\n",
      "Requirement already satisfied: absl-py>=1.0.0 in /Users/nixi/Desktop/Final-thesis-folder-24/.conda/lib/python3.11/site-packages (from tensorflow) (2.1.0)\n",
      "Requirement already satisfied: astunparse>=1.6.0 in /Users/nixi/Desktop/Final-thesis-folder-24/.conda/lib/python3.11/site-packages (from tensorflow) (1.6.3)\n",
      "Requirement already satisfied: flatbuffers>=24.3.25 in /Users/nixi/Desktop/Final-thesis-folder-24/.conda/lib/python3.11/site-packages (from tensorflow) (24.3.25)\n",
      "Requirement already satisfied: gast!=0.5.0,!=0.5.1,!=0.5.2,>=0.2.1 in /Users/nixi/Desktop/Final-thesis-folder-24/.conda/lib/python3.11/site-packages (from tensorflow) (0.6.0)\n",
      "Requirement already satisfied: google-pasta>=0.1.1 in /Users/nixi/Desktop/Final-thesis-folder-24/.conda/lib/python3.11/site-packages (from tensorflow) (0.2.0)\n",
      "Requirement already satisfied: h5py>=3.10.0 in /Users/nixi/Desktop/Final-thesis-folder-24/.conda/lib/python3.11/site-packages (from tensorflow) (3.11.0)\n",
      "Requirement already satisfied: libclang>=13.0.0 in /Users/nixi/Desktop/Final-thesis-folder-24/.conda/lib/python3.11/site-packages (from tensorflow) (18.1.1)\n",
      "Requirement already satisfied: ml-dtypes<0.5.0,>=0.3.1 in /Users/nixi/Desktop/Final-thesis-folder-24/.conda/lib/python3.11/site-packages (from tensorflow) (0.4.0)\n",
      "Requirement already satisfied: opt-einsum>=2.3.2 in /Users/nixi/Desktop/Final-thesis-folder-24/.conda/lib/python3.11/site-packages (from tensorflow) (3.3.0)\n",
      "Requirement already satisfied: packaging in /Users/nixi/Desktop/Final-thesis-folder-24/.conda/lib/python3.11/site-packages (from tensorflow) (24.1)\n",
      "Requirement already satisfied: protobuf!=4.21.0,!=4.21.1,!=4.21.2,!=4.21.3,!=4.21.4,!=4.21.5,<5.0.0dev,>=3.20.3 in /Users/nixi/Desktop/Final-thesis-folder-24/.conda/lib/python3.11/site-packages (from tensorflow) (4.25.4)\n",
      "Requirement already satisfied: setuptools in /Users/nixi/Desktop/Final-thesis-folder-24/.conda/lib/python3.11/site-packages (from tensorflow) (72.1.0)\n",
      "Requirement already satisfied: six>=1.12.0 in /Users/nixi/Desktop/Final-thesis-folder-24/.conda/lib/python3.11/site-packages (from tensorflow) (1.16.0)\n",
      "Requirement already satisfied: termcolor>=1.1.0 in /Users/nixi/Desktop/Final-thesis-folder-24/.conda/lib/python3.11/site-packages (from tensorflow) (2.4.0)\n",
      "Requirement already satisfied: typing-extensions>=3.6.6 in /Users/nixi/Desktop/Final-thesis-folder-24/.conda/lib/python3.11/site-packages (from tensorflow) (4.12.2)\n",
      "Requirement already satisfied: wrapt>=1.11.0 in /Users/nixi/Desktop/Final-thesis-folder-24/.conda/lib/python3.11/site-packages (from tensorflow) (1.16.0)\n",
      "Requirement already satisfied: grpcio<2.0,>=1.24.3 in /Users/nixi/Desktop/Final-thesis-folder-24/.conda/lib/python3.11/site-packages (from tensorflow) (1.66.1)\n",
      "Requirement already satisfied: tensorboard<2.18,>=2.17 in /Users/nixi/Desktop/Final-thesis-folder-24/.conda/lib/python3.11/site-packages (from tensorflow) (2.17.1)\n",
      "Requirement already satisfied: keras>=3.2.0 in /Users/nixi/Desktop/Final-thesis-folder-24/.conda/lib/python3.11/site-packages (from tensorflow) (3.5.0)\n",
      "Requirement already satisfied: tensorflow-io-gcs-filesystem>=0.23.1 in /Users/nixi/Desktop/Final-thesis-folder-24/.conda/lib/python3.11/site-packages (from tensorflow) (0.37.1)\n",
      "Requirement already satisfied: wheel<1.0,>=0.23.0 in /Users/nixi/Desktop/Final-thesis-folder-24/.conda/lib/python3.11/site-packages (from astunparse>=1.6.0->tensorflow) (0.43.0)\n",
      "Requirement already satisfied: rich in /Users/nixi/Desktop/Final-thesis-folder-24/.conda/lib/python3.11/site-packages (from keras>=3.2.0->tensorflow) (13.8.0)\n",
      "Requirement already satisfied: namex in /Users/nixi/Desktop/Final-thesis-folder-24/.conda/lib/python3.11/site-packages (from keras>=3.2.0->tensorflow) (0.0.8)\n",
      "Requirement already satisfied: optree in /Users/nixi/Desktop/Final-thesis-folder-24/.conda/lib/python3.11/site-packages (from keras>=3.2.0->tensorflow) (0.12.1)\n",
      "Requirement already satisfied: charset-normalizer<4,>=2 in /Users/nixi/Desktop/Final-thesis-folder-24/.conda/lib/python3.11/site-packages (from requests->music21) (3.3.2)\n",
      "Requirement already satisfied: idna<4,>=2.5 in /Users/nixi/Desktop/Final-thesis-folder-24/.conda/lib/python3.11/site-packages (from requests->music21) (3.8)\n",
      "Requirement already satisfied: urllib3<3,>=1.21.1 in /Users/nixi/Desktop/Final-thesis-folder-24/.conda/lib/python3.11/site-packages (from requests->music21) (2.2.2)\n",
      "Requirement already satisfied: certifi>=2017.4.17 in /Users/nixi/Desktop/Final-thesis-folder-24/.conda/lib/python3.11/site-packages (from requests->music21) (2024.8.30)\n",
      "Requirement already satisfied: markdown>=2.6.8 in /Users/nixi/Desktop/Final-thesis-folder-24/.conda/lib/python3.11/site-packages (from tensorboard<2.18,>=2.17->tensorflow) (3.7)\n",
      "Requirement already satisfied: tensorboard-data-server<0.8.0,>=0.7.0 in /Users/nixi/Desktop/Final-thesis-folder-24/.conda/lib/python3.11/site-packages (from tensorboard<2.18,>=2.17->tensorflow) (0.7.2)\n",
      "Requirement already satisfied: werkzeug>=1.0.1 in /Users/nixi/Desktop/Final-thesis-folder-24/.conda/lib/python3.11/site-packages (from tensorboard<2.18,>=2.17->tensorflow) (3.0.4)\n",
      "Requirement already satisfied: contourpy>=1.0.1 in /Users/nixi/Desktop/Final-thesis-folder-24/.conda/lib/python3.11/site-packages (from matplotlib->music21) (1.3.0)\n",
      "Requirement already satisfied: cycler>=0.10 in /Users/nixi/Desktop/Final-thesis-folder-24/.conda/lib/python3.11/site-packages (from matplotlib->music21) (0.12.1)\n",
      "Requirement already satisfied: fonttools>=4.22.0 in /Users/nixi/Desktop/Final-thesis-folder-24/.conda/lib/python3.11/site-packages (from matplotlib->music21) (4.53.1)\n",
      "Requirement already satisfied: kiwisolver>=1.3.1 in /Users/nixi/Desktop/Final-thesis-folder-24/.conda/lib/python3.11/site-packages (from matplotlib->music21) (1.4.7)\n",
      "Requirement already satisfied: pillow>=8 in /Users/nixi/Desktop/Final-thesis-folder-24/.conda/lib/python3.11/site-packages (from matplotlib->music21) (10.4.0)\n",
      "Requirement already satisfied: pyparsing>=2.3.1 in /Users/nixi/Desktop/Final-thesis-folder-24/.conda/lib/python3.11/site-packages (from matplotlib->music21) (3.1.4)\n",
      "Requirement already satisfied: MarkupSafe>=2.1.1 in /Users/nixi/Desktop/Final-thesis-folder-24/.conda/lib/python3.11/site-packages (from werkzeug>=1.0.1->tensorboard<2.18,>=2.17->tensorflow) (2.1.5)\n",
      "Requirement already satisfied: markdown-it-py>=2.2.0 in /Users/nixi/Desktop/Final-thesis-folder-24/.conda/lib/python3.11/site-packages (from rich->keras>=3.2.0->tensorflow) (3.0.0)\n",
      "Requirement already satisfied: pygments<3.0.0,>=2.13.0 in /Users/nixi/Desktop/Final-thesis-folder-24/.conda/lib/python3.11/site-packages (from rich->keras>=3.2.0->tensorflow) (2.18.0)\n",
      "Requirement already satisfied: mdurl~=0.1 in /Users/nixi/Desktop/Final-thesis-folder-24/.conda/lib/python3.11/site-packages (from markdown-it-py>=2.2.0->rich->keras>=3.2.0->tensorflow) (0.1.2)\n",
      "Downloading music21-9.1.0-py3-none-any.whl (22.8 MB)\n",
      "\u001b[2K   \u001b[90m━━━━━━━━━━━━━━━━━━━━━━━━━━━━━━━━━━━━━━━━\u001b[0m \u001b[32m22.8/22.8 MB\u001b[0m \u001b[31m3.0 MB/s\u001b[0m eta \u001b[36m0:00:00\u001b[0m00:01\u001b[0m00:01\u001b[0m\n",
      "\u001b[?25hDownloading webcolors-24.8.0-py3-none-any.whl (15 kB)\n",
      "Using cached chardet-5.2.0-py3-none-any.whl (199 kB)\n",
      "Downloading jsonpickle-3.3.0-py3-none-any.whl (42 kB)\n",
      "Downloading more_itertools-10.5.0-py3-none-any.whl (60 kB)\n",
      "Installing collected packages: webcolors, more-itertools, jsonpickle, chardet, music21\n",
      "Successfully installed chardet-5.2.0 jsonpickle-3.3.0 more-itertools-10.5.0 music21-9.1.0 webcolors-24.8.0\n",
      "Note: you may need to restart the kernel to use updated packages.\n"
     ]
    }
   ],
   "source": [
    "%pip install music21 numpy pandas scikit-learn tensorflow"
   ]
  },
  {
   "cell_type": "code",
   "execution_count": 9,
   "id": "d7d85945",
   "metadata": {},
   "outputs": [
    {
     "name": "stdout",
     "output_type": "stream",
     "text": [
      "Processing: /Users/nixi/Desktop/Final-thesis-folder-24/classical/mozart/mz_570_1.mid\n"
     ]
    },
    {
     "name": "stderr",
     "output_type": "stream",
     "text": [
      "/Users/nixi/Desktop/Final-thesis-folder-24/.conda/lib/python3.11/site-packages/music21/midi/translate.py:874: TranslateWarning: Unable to determine instrument from <music21.midi.MidiEvent SEQUENCE_TRACK_NAME, track=5, channel=None, data=b'Copyright \\xa9 2006 by Bernd Krueger'>; getting generic Instrument\n",
      "  warnings.warn(\n"
     ]
    },
    {
     "name": "stdout",
     "output_type": "stream",
     "text": [
      "Processing: /Users/nixi/Desktop/Final-thesis-folder-24/classical/mozart/mz_570_2.mid\n",
      "Processing: /Users/nixi/Desktop/Final-thesis-folder-24/classical/mozart/mz_570_3.mid\n",
      "Processing: /Users/nixi/Desktop/Final-thesis-folder-24/classical/mozart/mz_545_1.mid\n",
      "Processing: /Users/nixi/Desktop/Final-thesis-folder-24/classical/mozart/mz_332_3.mid\n"
     ]
    },
    {
     "name": "stderr",
     "output_type": "stream",
     "text": [
      "/Users/nixi/Desktop/Final-thesis-folder-24/.conda/lib/python3.11/site-packages/music21/midi/translate.py:874: TranslateWarning: Unable to determine instrument from <music21.midi.MidiEvent SEQUENCE_TRACK_NAME, track=5, channel=None, data=b'Copyright \\xa9 2006 by Bernd Kr\\xfcger'>; getting generic Instrument\n",
      "  warnings.warn(\n"
     ]
    },
    {
     "name": "stdout",
     "output_type": "stream",
     "text": [
      "Processing: /Users/nixi/Desktop/Final-thesis-folder-24/classical/mozart/mz_330_1.mid\n"
     ]
    },
    {
     "name": "stderr",
     "output_type": "stream",
     "text": [
      "/Users/nixi/Desktop/Final-thesis-folder-24/.conda/lib/python3.11/site-packages/music21/midi/translate.py:874: TranslateWarning: Unable to determine instrument from <music21.midi.MidiEvent SEQUENCE_TRACK_NAME, track=5, channel=None, data=b'Copyright \\xa9 1997 by Bernd Kr\\xfcger'>; getting generic Instrument\n",
      "  warnings.warn(\n"
     ]
    },
    {
     "name": "stdout",
     "output_type": "stream",
     "text": [
      "Processing: /Users/nixi/Desktop/Final-thesis-folder-24/classical/mozart/mz_332_2.mid\n",
      "Processing: /Users/nixi/Desktop/Final-thesis-folder-24/classical/mozart/mz_545_2.mid\n",
      "Processing: /Users/nixi/Desktop/Final-thesis-folder-24/classical/mozart/mz_330_2.mid\n",
      "Processing: /Users/nixi/Desktop/Final-thesis-folder-24/classical/mozart/mz_330_3.mid\n",
      "Processing: /Users/nixi/Desktop/Final-thesis-folder-24/classical/mozart/mz_332_1.mid\n"
     ]
    },
    {
     "name": "stderr",
     "output_type": "stream",
     "text": [
      "/Users/nixi/Desktop/Final-thesis-folder-24/.conda/lib/python3.11/site-packages/music21/midi/translate.py:874: TranslateWarning: Unable to determine instrument from <music21.midi.MidiEvent SEQUENCE_TRACK_NAME, track=5, channel=None, data=b'Copyright \\xa9 2005 by Bernd Kr\\xfcger'>; getting generic Instrument\n",
      "  warnings.warn(\n"
     ]
    },
    {
     "name": "stdout",
     "output_type": "stream",
     "text": [
      "Processing: /Users/nixi/Desktop/Final-thesis-folder-24/classical/mozart/mz_545_3.mid\n",
      "Processing: /Users/nixi/Desktop/Final-thesis-folder-24/classical/mozart/mz_331_2.mid\n",
      "Processing: /Users/nixi/Desktop/Final-thesis-folder-24/classical/mozart/mz_333_1.mid\n",
      "Processing: /Users/nixi/Desktop/Final-thesis-folder-24/classical/mozart/mz_331_3.mid\n",
      "Processing: /Users/nixi/Desktop/Final-thesis-folder-24/classical/mozart/mz_331_1.mid\n",
      "Processing: /Users/nixi/Desktop/Final-thesis-folder-24/classical/mozart/mz_333_3.mid\n",
      "Processing: /Users/nixi/Desktop/Final-thesis-folder-24/classical/mozart/mz_333_2.mid\n",
      "Processing: /Users/nixi/Desktop/Final-thesis-folder-24/classical/mozart/mz_311_1.mid\n",
      "Processing: /Users/nixi/Desktop/Final-thesis-folder-24/classical/mozart/mz_311_2.mid\n",
      "Processing: /Users/nixi/Desktop/Final-thesis-folder-24/classical/mozart/mz_311_3.mid\n",
      "Processing: /Users/nixi/Desktop/Final-thesis-folder-24/classical/chopin/chpn_op23.mid\n"
     ]
    },
    {
     "name": "stderr",
     "output_type": "stream",
     "text": [
      "/Users/nixi/Desktop/Final-thesis-folder-24/.conda/lib/python3.11/site-packages/music21/midi/translate.py:874: TranslateWarning: Unable to determine instrument from <music21.midi.MidiEvent SEQUENCE_TRACK_NAME, track=4, channel=None, data=b'Copyright \\xa9 2003 by Bernd Krueger'>; getting generic Instrument\n",
      "  warnings.warn(\n"
     ]
    },
    {
     "name": "stdout",
     "output_type": "stream",
     "text": [
      "Processing: /Users/nixi/Desktop/Final-thesis-folder-24/classical/chopin/chpn-p19.mid\n"
     ]
    },
    {
     "name": "stderr",
     "output_type": "stream",
     "text": [
      "/Users/nixi/Desktop/Final-thesis-folder-24/.conda/lib/python3.11/site-packages/music21/midi/translate.py:874: TranslateWarning: Unable to determine instrument from <music21.midi.MidiEvent SEQUENCE_TRACK_NAME, track=4, channel=None, data=b'Copyright \\xa9 2002 by Bernd Krueger'>; getting generic Instrument\n",
      "  warnings.warn(\n"
     ]
    },
    {
     "name": "stdout",
     "output_type": "stream",
     "text": [
      "Processing: /Users/nixi/Desktop/Final-thesis-folder-24/classical/chopin/chpn_op7_2.mid\n",
      "Processing: /Users/nixi/Desktop/Final-thesis-folder-24/classical/chopin/chpn-p18.mid\n",
      "Processing: /Users/nixi/Desktop/Final-thesis-folder-24/classical/chopin/chpn-p24.mid\n",
      "Processing: /Users/nixi/Desktop/Final-thesis-folder-24/classical/chopin/chpn_op7_1.mid\n",
      "Processing: /Users/nixi/Desktop/Final-thesis-folder-24/classical/chopin/chpn-p23.mid\n",
      "Processing: /Users/nixi/Desktop/Final-thesis-folder-24/classical/chopin/chpn-p9.mid\n"
     ]
    },
    {
     "name": "stderr",
     "output_type": "stream",
     "text": [
      "/Users/nixi/Desktop/Final-thesis-folder-24/.conda/lib/python3.11/site-packages/music21/midi/translate.py:874: TranslateWarning: Unable to determine instrument from <music21.midi.MidiEvent SEQUENCE_TRACK_NAME, track=5, channel=None, data=b'Copyright \\xa9 1997 by Bernd Krueger'>; getting generic Instrument\n",
      "  warnings.warn(\n"
     ]
    },
    {
     "name": "stdout",
     "output_type": "stream",
     "text": [
      "Processing: /Users/nixi/Desktop/Final-thesis-folder-24/classical/chopin/chpn-p8.mid\n",
      "Processing: /Users/nixi/Desktop/Final-thesis-folder-24/classical/chopin/chpn-p22.mid\n",
      "Processing: /Users/nixi/Desktop/Final-thesis-folder-24/classical/chopin/chpn-p20.mid\n",
      "Processing: /Users/nixi/Desktop/Final-thesis-folder-24/classical/chopin/chpn-p21.mid\n",
      "Processing: /Users/nixi/Desktop/Final-thesis-folder-24/classical/chopin/chp_op18.mid\n"
     ]
    },
    {
     "name": "stderr",
     "output_type": "stream",
     "text": [
      "/Users/nixi/Desktop/Final-thesis-folder-24/.conda/lib/python3.11/site-packages/music21/midi/translate.py:874: TranslateWarning: Unable to determine instrument from <music21.midi.MidiEvent SEQUENCE_TRACK_NAME, track=4, channel=None, data=b'Copyright \\xa9 1997 by Bernd Kr\\xfcger'>; getting generic Instrument\n",
      "  warnings.warn(\n"
     ]
    },
    {
     "name": "stdout",
     "output_type": "stream",
     "text": [
      "Processing: /Users/nixi/Desktop/Final-thesis-folder-24/classical/chopin/chpn_op35_4.mid\n"
     ]
    },
    {
     "name": "stderr",
     "output_type": "stream",
     "text": [
      "/Users/nixi/Desktop/Final-thesis-folder-24/.conda/lib/python3.11/site-packages/music21/midi/translate.py:874: TranslateWarning: Unable to determine instrument from <music21.midi.MidiEvent SEQUENCE_TRACK_NAME, track=4, channel=None, data=b'Copyright \\xa9 2002 by Bernd Kr\\xfcger'>; getting generic Instrument\n",
      "  warnings.warn(\n"
     ]
    },
    {
     "name": "stdout",
     "output_type": "stream",
     "text": [
      "Processing: /Users/nixi/Desktop/Final-thesis-folder-24/classical/chopin/chpn_op33_2.mid\n",
      "Processing: /Users/nixi/Desktop/Final-thesis-folder-24/classical/chopin/chp_op31.mid\n",
      "Processing: /Users/nixi/Desktop/Final-thesis-folder-24/classical/chopin/chpn_op25_e4.mid\n",
      "Processing: /Users/nixi/Desktop/Final-thesis-folder-24/classical/chopin/chpn_op35_2.mid\n"
     ]
    },
    {
     "name": "stderr",
     "output_type": "stream",
     "text": [
      "/Users/nixi/Desktop/Final-thesis-folder-24/.conda/lib/python3.11/site-packages/music21/midi/translate.py:874: TranslateWarning: Unable to determine instrument from <music21.midi.MidiEvent SEQUENCE_TRACK_NAME, track=5, channel=None, data=b'Copyright \\xa9 2002 by Bernd Kr\\xfcger'>; getting generic Instrument\n",
      "  warnings.warn(\n"
     ]
    },
    {
     "name": "stdout",
     "output_type": "stream",
     "text": [
      "Processing: /Users/nixi/Desktop/Final-thesis-folder-24/classical/chopin/chpn_op25_e1.mid\n"
     ]
    },
    {
     "name": "stderr",
     "output_type": "stream",
     "text": [
      "/Users/nixi/Desktop/Final-thesis-folder-24/.conda/lib/python3.11/site-packages/music21/midi/translate.py:874: TranslateWarning: Unable to determine instrument from <music21.midi.MidiEvent SEQUENCE_TRACK_NAME, track=5, channel=None, data=b'Copyright \\xa9 2002 by Bernd Krueger'>; getting generic Instrument\n",
      "  warnings.warn(\n"
     ]
    },
    {
     "name": "stdout",
     "output_type": "stream",
     "text": [
      "Processing: /Users/nixi/Desktop/Final-thesis-folder-24/classical/chopin/chpn_op33_4.mid\n",
      "Processing: /Users/nixi/Desktop/Final-thesis-folder-24/classical/chopin/chpn_op53.mid\n",
      "Processing: /Users/nixi/Desktop/Final-thesis-folder-24/classical/chopin/chpn_op35_3.mid\n",
      "Processing: /Users/nixi/Desktop/Final-thesis-folder-24/classical/chopin/chpn_op35_1.mid\n",
      "Processing: /Users/nixi/Desktop/Final-thesis-folder-24/classical/chopin/chpn_op25_e2.mid\n",
      "Processing: /Users/nixi/Desktop/Final-thesis-folder-24/classical/chopin/chpn_op25_e3.mid\n",
      "Processing: /Users/nixi/Desktop/Final-thesis-folder-24/classical/chopin/chpn_op10_e12.mid\n"
     ]
    },
    {
     "name": "stderr",
     "output_type": "stream",
     "text": [
      "/Users/nixi/Desktop/Final-thesis-folder-24/.conda/lib/python3.11/site-packages/music21/midi/translate.py:874: TranslateWarning: Unable to determine instrument from <music21.midi.MidiEvent SEQUENCE_TRACK_NAME, track=0, channel=None, data=b'Et\\xfcde Nr. 12'>; getting generic Instrument\n",
      "  warnings.warn(\n",
      "/Users/nixi/Desktop/Final-thesis-folder-24/.conda/lib/python3.11/site-packages/music21/midi/translate.py:874: TranslateWarning: Unable to determine instrument from <music21.midi.MidiEvent SEQUENCE_TRACK_NAME, track=4, channel=None, data=b'Copyright \\xa9 1999 by Bernd Kr\\xfcger'>; getting generic Instrument\n",
      "  warnings.warn(\n"
     ]
    },
    {
     "name": "stdout",
     "output_type": "stream",
     "text": [
      "Processing: /Users/nixi/Desktop/Final-thesis-folder-24/classical/chopin/chpn_op10_e05.mid\n"
     ]
    },
    {
     "name": "stderr",
     "output_type": "stream",
     "text": [
      "/Users/nixi/Desktop/Final-thesis-folder-24/.conda/lib/python3.11/site-packages/music21/midi/translate.py:874: TranslateWarning: Unable to determine instrument from <music21.midi.MidiEvent SEQUENCE_TRACK_NAME, track=0, channel=None, data=b'Et\\xfcde Opus 10 No. 5'>; getting generic Instrument\n",
      "  warnings.warn(\n",
      "/Users/nixi/Desktop/Final-thesis-folder-24/.conda/lib/python3.11/site-packages/music21/midi/translate.py:874: TranslateWarning: Unable to determine instrument from <music21.midi.MidiEvent SEQUENCE_TRACK_NAME, track=0, channel=None, data=b'Schwarze-Tasten-Et\\xfcde'>; getting generic Instrument\n",
      "  warnings.warn(\n"
     ]
    },
    {
     "name": "stdout",
     "output_type": "stream",
     "text": [
      "Processing: /Users/nixi/Desktop/Final-thesis-folder-24/classical/chopin/chpn_op10_e01.mid\n",
      "Processing: /Users/nixi/Desktop/Final-thesis-folder-24/classical/chopin/chpn_op66.mid\n",
      "Processing: /Users/nixi/Desktop/Final-thesis-folder-24/classical/chopin/chpn-p10.mid\n",
      "Processing: /Users/nixi/Desktop/Final-thesis-folder-24/classical/chopin/chpn_op25_e12.mid\n"
     ]
    },
    {
     "name": "stderr",
     "output_type": "stream",
     "text": [
      "/Users/nixi/Desktop/Final-thesis-folder-24/.conda/lib/python3.11/site-packages/music21/midi/translate.py:874: TranslateWarning: Unable to determine instrument from <music21.midi.MidiEvent SEQUENCE_TRACK_NAME, track=4, channel=None, data=b'Copyright \\xa9 1997 by Bernd Krueger'>; getting generic Instrument\n",
      "  warnings.warn(\n"
     ]
    },
    {
     "name": "stdout",
     "output_type": "stream",
     "text": [
      "Processing: /Users/nixi/Desktop/Final-thesis-folder-24/classical/chopin/chpn-p6.mid\n",
      "Processing: /Users/nixi/Desktop/Final-thesis-folder-24/classical/chopin/chpn-p7.mid\n",
      "Processing: /Users/nixi/Desktop/Final-thesis-folder-24/classical/chopin/chpn-p11.mid\n",
      "Processing: /Users/nixi/Desktop/Final-thesis-folder-24/classical/chopin/chpn-p13.mid\n",
      "Processing: /Users/nixi/Desktop/Final-thesis-folder-24/classical/chopin/chpn_op25_e11.mid\n"
     ]
    },
    {
     "name": "stderr",
     "output_type": "stream",
     "text": [
      "/Users/nixi/Desktop/Final-thesis-folder-24/.conda/lib/python3.11/site-packages/music21/midi/translate.py:874: TranslateWarning: Unable to determine instrument from <music21.midi.MidiEvent SEQUENCE_TRACK_NAME, track=0, channel=None, data=b'Et\\xfcde Opus 25, No. 11'>; getting generic Instrument\n",
      "  warnings.warn(\n",
      "/Users/nixi/Desktop/Final-thesis-folder-24/.conda/lib/python3.11/site-packages/music21/midi/translate.py:874: TranslateWarning: Unable to determine instrument from <music21.midi.MidiEvent SEQUENCE_TRACK_NAME, track=0, channel=None, data=b'Sturmet\\xfcde'>; getting generic Instrument\n",
      "  warnings.warn(\n"
     ]
    },
    {
     "name": "stdout",
     "output_type": "stream",
     "text": [
      "Processing: /Users/nixi/Desktop/Final-thesis-folder-24/classical/chopin/chpn-p5.mid\n",
      "Processing: /Users/nixi/Desktop/Final-thesis-folder-24/classical/chopin/chpn-p4.mid\n",
      "Processing: /Users/nixi/Desktop/Final-thesis-folder-24/classical/chopin/chpn-p12.mid\n",
      "Processing: /Users/nixi/Desktop/Final-thesis-folder-24/classical/chopin/chpn-p16.mid\n",
      "Processing: /Users/nixi/Desktop/Final-thesis-folder-24/classical/chopin/chpn_op27_2.mid\n",
      "Processing: /Users/nixi/Desktop/Final-thesis-folder-24/classical/chopin/chpn-p1.mid\n",
      "Processing: /Users/nixi/Desktop/Final-thesis-folder-24/classical/chopin/chpn-p17.mid\n",
      "Processing: /Users/nixi/Desktop/Final-thesis-folder-24/classical/chopin/chpn-p15.mid\n",
      "Processing: /Users/nixi/Desktop/Final-thesis-folder-24/classical/chopin/chpn-p3.mid\n",
      "Processing: /Users/nixi/Desktop/Final-thesis-folder-24/classical/chopin/chpn_op27_1.mid\n",
      "Processing: /Users/nixi/Desktop/Final-thesis-folder-24/classical/chopin/chpn-p2.mid\n",
      "Processing: /Users/nixi/Desktop/Final-thesis-folder-24/classical/chopin/chpn-p14.mid\n",
      "Processing: /Users/nixi/Desktop/Final-thesis-folder-24/classical/balakir/islamei.mid\n"
     ]
    },
    {
     "name": "stderr",
     "output_type": "stream",
     "text": [
      "/Users/nixi/Desktop/Final-thesis-folder-24/.conda/lib/python3.11/site-packages/music21/midi/translate.py:874: TranslateWarning: Unable to determine instrument from <music21.midi.MidiEvent SEQUENCE_TRACK_NAME, track=4, channel=None, data=b'Copyright \\xa9 2000 by Bernd Kr\\xfcger'>; getting generic Instrument\n",
      "  warnings.warn(\n"
     ]
    },
    {
     "name": "stdout",
     "output_type": "stream",
     "text": [
      "Processing: /Users/nixi/Desktop/Final-thesis-folder-24/classical/liszt/liz_rhap09.mid\n",
      "Processing: /Users/nixi/Desktop/Final-thesis-folder-24/classical/liszt/liz_et_trans8.mid\n"
     ]
    },
    {
     "name": "stderr",
     "output_type": "stream",
     "text": [
      "/Users/nixi/Desktop/Final-thesis-folder-24/.conda/lib/python3.11/site-packages/music21/midi/translate.py:874: TranslateWarning: Unable to determine instrument from <music21.midi.MidiEvent SEQUENCE_TRACK_NAME, track=5, channel=None, data=b'Copyright \\xa9 2007 by Bernd Krueger'>; getting generic Instrument\n",
      "  warnings.warn(\n"
     ]
    },
    {
     "name": "stdout",
     "output_type": "stream",
     "text": [
      "Processing: /Users/nixi/Desktop/Final-thesis-folder-24/classical/liszt/liz_donjuan.mid\n"
     ]
    },
    {
     "name": "stderr",
     "output_type": "stream",
     "text": [
      "/Users/nixi/Desktop/Final-thesis-folder-24/.conda/lib/python3.11/site-packages/music21/midi/translate.py:874: TranslateWarning: Unable to determine instrument from <music21.midi.MidiEvent SEQUENCE_TRACK_NAME, track=6, channel=None, data=b'Copyright \\xa9 2004 by Bernd Kr\\xfcger'>; getting generic Instrument\n",
      "  warnings.warn(\n"
     ]
    },
    {
     "name": "stdout",
     "output_type": "stream",
     "text": [
      "Processing: /Users/nixi/Desktop/Final-thesis-folder-24/classical/liszt/liz_liebestraum.mid\n",
      "Processing: /Users/nixi/Desktop/Final-thesis-folder-24/classical/liszt/liz_et2.mid\n"
     ]
    },
    {
     "name": "stderr",
     "output_type": "stream",
     "text": [
      "/Users/nixi/Desktop/Final-thesis-folder-24/.conda/lib/python3.11/site-packages/music21/midi/translate.py:874: TranslateWarning: Unable to determine instrument from <music21.midi.MidiEvent SEQUENCE_TRACK_NAME, track=4, channel=None, data=b'Copyright \\xa9 1998 by Bernd Kr\\xfcger'>; getting generic Instrument\n",
      "  warnings.warn(\n"
     ]
    },
    {
     "name": "stdout",
     "output_type": "stream",
     "text": [
      "Processing: /Users/nixi/Desktop/Final-thesis-folder-24/classical/liszt/liz_et_trans5.mid\n",
      "Processing: /Users/nixi/Desktop/Final-thesis-folder-24/classical/liszt/liz_et_trans4.mid\n",
      "Processing: /Users/nixi/Desktop/Final-thesis-folder-24/classical/liszt/liz_et3.mid\n",
      "Processing: /Users/nixi/Desktop/Final-thesis-folder-24/classical/liszt/liz_rhap12.mid\n"
     ]
    },
    {
     "name": "stderr",
     "output_type": "stream",
     "text": [
      "/Users/nixi/Desktop/Final-thesis-folder-24/.conda/lib/python3.11/site-packages/music21/midi/translate.py:874: TranslateWarning: Unable to determine instrument from <music21.midi.MidiEvent SEQUENCE_TRACK_NAME, track=5, channel=None, data=b'Copyright \\xa9 2004 by Bernd Kr\\xfcger'>; getting generic Instrument\n",
      "  warnings.warn(\n"
     ]
    },
    {
     "name": "stdout",
     "output_type": "stream",
     "text": [
      "Processing: /Users/nixi/Desktop/Final-thesis-folder-24/classical/liszt/liz_rhap10.mid\n",
      "Processing: /Users/nixi/Desktop/Final-thesis-folder-24/classical/liszt/liz_et1.mid\n",
      "Processing: /Users/nixi/Desktop/Final-thesis-folder-24/classical/liszt/liz_rhap15.mid\n",
      "Processing: /Users/nixi/Desktop/Final-thesis-folder-24/classical/liszt/liz_et4.mid\n"
     ]
    },
    {
     "name": "stderr",
     "output_type": "stream",
     "text": [
      "/Users/nixi/Desktop/Final-thesis-folder-24/.conda/lib/python3.11/site-packages/music21/midi/translate.py:874: TranslateWarning: Unable to determine instrument from <music21.midi.MidiEvent SEQUENCE_TRACK_NAME, track=4, channel=None, data=b'Copyright \\xa9 2004 by Bernd Kr\\xfcger'>; getting generic Instrument\n",
      "  warnings.warn(\n"
     ]
    },
    {
     "name": "stdout",
     "output_type": "stream",
     "text": [
      "Processing: /Users/nixi/Desktop/Final-thesis-folder-24/classical/liszt/liz_et5.mid\n",
      "Processing: /Users/nixi/Desktop/Final-thesis-folder-24/classical/liszt/liz_rhap02.mid\n",
      "Processing: /Users/nixi/Desktop/Final-thesis-folder-24/classical/liszt/liz_et6.mid\n",
      "Processing: /Users/nixi/Desktop/Final-thesis-folder-24/classical/burgm/burg_sylphen.mid\n"
     ]
    },
    {
     "name": "stderr",
     "output_type": "stream",
     "text": [
      "/Users/nixi/Desktop/Final-thesis-folder-24/.conda/lib/python3.11/site-packages/music21/midi/translate.py:874: TranslateWarning: Unable to determine instrument from <music21.midi.MidiEvent SEQUENCE_TRACK_NAME, track=5, channel=None, data=b'Copyright \\xa9 2012 by Bernd Kr\\xfcger'>; getting generic Instrument\n",
      "  warnings.warn(\n"
     ]
    },
    {
     "name": "stdout",
     "output_type": "stream",
     "text": [
      "Processing: /Users/nixi/Desktop/Final-thesis-folder-24/classical/burgm/burg_quelle.mid\n",
      "Processing: /Users/nixi/Desktop/Final-thesis-folder-24/classical/burgm/burg_perlen.mid\n",
      "Processing: /Users/nixi/Desktop/Final-thesis-folder-24/classical/burgm/burg_erwachen.mid\n",
      "Processing: /Users/nixi/Desktop/Final-thesis-folder-24/classical/burgm/burg_spinnerlied.mid\n",
      "Processing: /Users/nixi/Desktop/Final-thesis-folder-24/classical/burgm/burg_geschwindigkeit.mid\n",
      "Processing: /Users/nixi/Desktop/Final-thesis-folder-24/classical/burgm/burg_gewitter.mid\n",
      "Processing: /Users/nixi/Desktop/Final-thesis-folder-24/classical/burgm/burg_agitato.mid\n"
     ]
    },
    {
     "name": "stderr",
     "output_type": "stream",
     "text": [
      "/Users/nixi/Desktop/Final-thesis-folder-24/.conda/lib/python3.11/site-packages/music21/midi/translate.py:874: TranslateWarning: Unable to determine instrument from <music21.midi.MidiEvent SEQUENCE_TRACK_NAME, track=4, channel=None, data=b'Copyright \\xa9 2012 by Bernd Kr\\xfcger'>; getting generic Instrument\n",
      "  warnings.warn(\n"
     ]
    },
    {
     "name": "stdout",
     "output_type": "stream",
     "text": [
      "Processing: /Users/nixi/Desktop/Final-thesis-folder-24/classical/burgm/burg_trennung.mid\n",
      "Processing: /Users/nixi/Desktop/Final-thesis-folder-24/classical/haydn/haydn_43_1.mid\n"
     ]
    },
    {
     "name": "stderr",
     "output_type": "stream",
     "text": [
      "/Users/nixi/Desktop/Final-thesis-folder-24/.conda/lib/python3.11/site-packages/music21/midi/translate.py:874: TranslateWarning: Unable to determine instrument from <music21.midi.MidiEvent SEQUENCE_TRACK_NAME, track=5, channel=None, data=b'Copyright \\xa9 2010 by Bernd Krueger'>; getting generic Instrument\n",
      "  warnings.warn(\n"
     ]
    },
    {
     "name": "stdout",
     "output_type": "stream",
     "text": [
      "Processing: /Users/nixi/Desktop/Final-thesis-folder-24/classical/haydn/haydn_43_2.mid\n",
      "Processing: /Users/nixi/Desktop/Final-thesis-folder-24/classical/haydn/haydn_8_4.mid\n"
     ]
    },
    {
     "name": "stderr",
     "output_type": "stream",
     "text": [
      "/Users/nixi/Desktop/Final-thesis-folder-24/.conda/lib/python3.11/site-packages/music21/midi/translate.py:874: TranslateWarning: Unable to determine instrument from <music21.midi.MidiEvent SEQUENCE_TRACK_NAME, track=5, channel=None, data=b'Copyright \\xa9 2009 by Bernd Krueger'>; getting generic Instrument\n",
      "  warnings.warn(\n"
     ]
    },
    {
     "name": "stdout",
     "output_type": "stream",
     "text": [
      "Processing: /Users/nixi/Desktop/Final-thesis-folder-24/classical/haydn/haydn_43_3.mid\n",
      "Processing: /Users/nixi/Desktop/Final-thesis-folder-24/classical/haydn/haydn_8_1.mid\n",
      "Processing: /Users/nixi/Desktop/Final-thesis-folder-24/classical/haydn/haydn_8_3.mid\n",
      "Processing: /Users/nixi/Desktop/Final-thesis-folder-24/classical/haydn/haydn_8_2.mid\n",
      "Processing: /Users/nixi/Desktop/Final-thesis-folder-24/classical/haydn/haydn_9_3.mid\n",
      "Processing: /Users/nixi/Desktop/Final-thesis-folder-24/classical/haydn/hay_40_1.mid\n"
     ]
    },
    {
     "name": "stderr",
     "output_type": "stream",
     "text": [
      "/Users/nixi/Desktop/Final-thesis-folder-24/.conda/lib/python3.11/site-packages/music21/midi/translate.py:874: TranslateWarning: Unable to determine instrument from <music21.midi.MidiEvent SEQUENCE_TRACK_NAME, track=5, channel=None, data=b'Copyright \\xa9 1998 by Bernd Kr\\xfcger'>; getting generic Instrument\n",
      "  warnings.warn(\n"
     ]
    },
    {
     "name": "stdout",
     "output_type": "stream",
     "text": [
      "Processing: /Users/nixi/Desktop/Final-thesis-folder-24/classical/haydn/haydn_9_2.mid\n",
      "Processing: /Users/nixi/Desktop/Final-thesis-folder-24/classical/haydn/hay_40_2.mid\n",
      "Processing: /Users/nixi/Desktop/Final-thesis-folder-24/classical/haydn/haydn_9_1.mid\n",
      "Processing: /Users/nixi/Desktop/Final-thesis-folder-24/classical/haydn/haydn_7_3.mid\n",
      "Processing: /Users/nixi/Desktop/Final-thesis-folder-24/classical/haydn/haydn_7_2.mid\n",
      "Processing: /Users/nixi/Desktop/Final-thesis-folder-24/classical/haydn/haydn_7_1.mid\n",
      "Processing: /Users/nixi/Desktop/Final-thesis-folder-24/classical/haydn/haydn_33_1.mid\n",
      "Processing: /Users/nixi/Desktop/Final-thesis-folder-24/classical/haydn/haydn_33_2.mid\n",
      "Processing: /Users/nixi/Desktop/Final-thesis-folder-24/classical/haydn/haydn_33_3.mid\n",
      "Processing: /Users/nixi/Desktop/Final-thesis-folder-24/classical/haydn/haydn_35_1.mid\n",
      "Processing: /Users/nixi/Desktop/Final-thesis-folder-24/classical/haydn/haydn_35_2.mid\n",
      "Processing: /Users/nixi/Desktop/Final-thesis-folder-24/classical/haydn/haydn_35_3.mid\n",
      "Processing: /Users/nixi/Desktop/Final-thesis-folder-24/classical/schumann/schum_abegg.mid\n",
      "Processing: /Users/nixi/Desktop/Final-thesis-folder-24/classical/schumann/scn68_10.mid\n",
      "Processing: /Users/nixi/Desktop/Final-thesis-folder-24/classical/schumann/scn15_10.mid\n"
     ]
    },
    {
     "name": "stderr",
     "output_type": "stream",
     "text": [
      "/Users/nixi/Desktop/Final-thesis-folder-24/.conda/lib/python3.11/site-packages/music21/midi/translate.py:874: TranslateWarning: Unable to determine instrument from <music21.midi.MidiEvent SEQUENCE_TRACK_NAME, track=0, channel=None, data=b'Schumann:   Fr\\xf6hlicher Landmann, von der Arbeit zur\\xfcckkehrend'>; getting generic Instrument\n",
      "  warnings.warn(\n",
      "/Users/nixi/Desktop/Final-thesis-folder-24/.conda/lib/python3.11/site-packages/music21/midi/translate.py:874: TranslateWarning: Unable to determine instrument from <music21.midi.MidiEvent SEQUENCE_TRACK_NAME, track=0, channel=None, data=b'aus Album f\\xfcr die Jugend Opus 68, Nr. 10'>; getting generic Instrument\n",
      "  warnings.warn(\n",
      "/Users/nixi/Desktop/Final-thesis-folder-24/.conda/lib/python3.11/site-packages/music21/midi/translate.py:874: TranslateWarning: Unable to determine instrument from <music21.midi.MidiEvent SEQUENCE_TRACK_NAME, track=4, channel=None, data=b'Schumann: Fr\\xf6hlicher Landmann'>; getting generic Instrument\n",
      "  warnings.warn(\n",
      "/Users/nixi/Desktop/Final-thesis-folder-24/.conda/lib/python3.11/site-packages/music21/midi/translate.py:874: TranslateWarning: Unable to determine instrument from <music21.midi.MidiEvent SEQUENCE_TRACK_NAME, track=5, channel=None, data=b'Copyright \\xa9 2008 by Bernd Krueger'>; getting generic Instrument\n",
      "  warnings.warn(\n"
     ]
    },
    {
     "name": "stdout",
     "output_type": "stream",
     "text": [
      "Processing: /Users/nixi/Desktop/Final-thesis-folder-24/classical/schumann/scn16_8.mid\n",
      "Processing: /Users/nixi/Desktop/Final-thesis-folder-24/classical/schumann/scn15_11.mid\n"
     ]
    },
    {
     "name": "stderr",
     "output_type": "stream",
     "text": [
      "/Users/nixi/Desktop/Final-thesis-folder-24/.conda/lib/python3.11/site-packages/music21/midi/translate.py:874: TranslateWarning: Unable to determine instrument from <music21.midi.MidiEvent SEQUENCE_TRACK_NAME, track=0, channel=None, data=b'F\\xfcrchtenmachen'>; getting generic Instrument\n",
      "  warnings.warn(\n"
     ]
    },
    {
     "name": "stdout",
     "output_type": "stream",
     "text": [
      "Processing: /Users/nixi/Desktop/Final-thesis-folder-24/classical/schumann/scn15_13.mid\n",
      "Processing: /Users/nixi/Desktop/Final-thesis-folder-24/classical/schumann/scn15_12.mid\n",
      "Processing: /Users/nixi/Desktop/Final-thesis-folder-24/classical/schumann/scn68_12.mid\n"
     ]
    },
    {
     "name": "stderr",
     "output_type": "stream",
     "text": [
      "/Users/nixi/Desktop/Final-thesis-folder-24/.conda/lib/python3.11/site-packages/music21/midi/translate.py:874: TranslateWarning: Unable to determine instrument from <music21.midi.MidiEvent SEQUENCE_TRACK_NAME, track=0, channel=None, data=b'Schumann: Knecht Ruprecht aus  Album f\\xfcr die Jugend Opus 68'>; getting generic Instrument\n",
      "  warnings.warn(\n"
     ]
    },
    {
     "name": "stdout",
     "output_type": "stream",
     "text": [
      "Processing: /Users/nixi/Desktop/Final-thesis-folder-24/classical/schumann/scn15_8.mid\n",
      "Processing: /Users/nixi/Desktop/Final-thesis-folder-24/classical/schumann/scn15_9.mid\n",
      "Processing: /Users/nixi/Desktop/Final-thesis-folder-24/classical/schumann/scn15_7.mid\n"
     ]
    },
    {
     "name": "stderr",
     "output_type": "stream",
     "text": [
      "/Users/nixi/Desktop/Final-thesis-folder-24/.conda/lib/python3.11/site-packages/music21/midi/translate.py:874: TranslateWarning: Unable to determine instrument from <music21.midi.MidiEvent SEQUENCE_TRACK_NAME, track=0, channel=None, data=b'Tr\\xe4umerei'>; getting generic Instrument\n",
      "  warnings.warn(\n"
     ]
    },
    {
     "name": "stdout",
     "output_type": "stream",
     "text": [
      "Processing: /Users/nixi/Desktop/Final-thesis-folder-24/classical/schumann/scn15_6.mid\n",
      "Processing: /Users/nixi/Desktop/Final-thesis-folder-24/classical/schumann/scn15_4.mid\n",
      "Processing: /Users/nixi/Desktop/Final-thesis-folder-24/classical/schumann/scn15_5.mid\n"
     ]
    },
    {
     "name": "stderr",
     "output_type": "stream",
     "text": [
      "/Users/nixi/Desktop/Final-thesis-folder-24/.conda/lib/python3.11/site-packages/music21/midi/translate.py:874: TranslateWarning: Unable to determine instrument from <music21.midi.MidiEvent SEQUENCE_TRACK_NAME, track=0, channel=None, data=b'Gl\\xfcckes genug'>; getting generic Instrument\n",
      "  warnings.warn(\n"
     ]
    },
    {
     "name": "stdout",
     "output_type": "stream",
     "text": [
      "Processing: /Users/nixi/Desktop/Final-thesis-folder-24/classical/schumann/scn15_1.mid\n"
     ]
    },
    {
     "name": "stderr",
     "output_type": "stream",
     "text": [
      "/Users/nixi/Desktop/Final-thesis-folder-24/.conda/lib/python3.11/site-packages/music21/midi/translate.py:874: TranslateWarning: Unable to determine instrument from <music21.midi.MidiEvent SEQUENCE_TRACK_NAME, track=0, channel=None, data=b'Von fremden L\\xe4ndern und Menschen'>; getting generic Instrument\n",
      "  warnings.warn(\n"
     ]
    },
    {
     "name": "stdout",
     "output_type": "stream",
     "text": [
      "Processing: /Users/nixi/Desktop/Final-thesis-folder-24/classical/schumann/scn15_2.mid\n",
      "Processing: /Users/nixi/Desktop/Final-thesis-folder-24/classical/schumann/scn15_3.mid\n",
      "Processing: /Users/nixi/Desktop/Final-thesis-folder-24/classical/schumann/scn16_6.mid\n",
      "Processing: /Users/nixi/Desktop/Final-thesis-folder-24/classical/schumann/scn16_7.mid\n",
      "Processing: /Users/nixi/Desktop/Final-thesis-folder-24/classical/schumann/scn16_5.mid\n",
      "Processing: /Users/nixi/Desktop/Final-thesis-folder-24/classical/schumann/scn16_4.mid\n",
      "Processing: /Users/nixi/Desktop/Final-thesis-folder-24/classical/schumann/scn16_1.mid\n",
      "Processing: /Users/nixi/Desktop/Final-thesis-folder-24/classical/schumann/scn16_3.mid\n",
      "Processing: /Users/nixi/Desktop/Final-thesis-folder-24/classical/schumann/scn16_2.mid\n",
      "Processing: /Users/nixi/Desktop/Final-thesis-folder-24/classical/tschai/ty_august.mid\n",
      "Processing: /Users/nixi/Desktop/Final-thesis-folder-24/classical/tschai/ty_dezember.mid\n",
      "Processing: /Users/nixi/Desktop/Final-thesis-folder-24/classical/tschai/ty_november.mid\n",
      "Processing: /Users/nixi/Desktop/Final-thesis-folder-24/classical/tschai/ty_juni.mid\n",
      "Processing: /Users/nixi/Desktop/Final-thesis-folder-24/classical/tschai/ty_april.mid\n",
      "Processing: /Users/nixi/Desktop/Final-thesis-folder-24/classical/tschai/ty_maerz.mid\n",
      "Processing: /Users/nixi/Desktop/Final-thesis-folder-24/classical/tschai/ty_februar.mid\n",
      "Processing: /Users/nixi/Desktop/Final-thesis-folder-24/classical/tschai/ty_januar.mid\n",
      "Processing: /Users/nixi/Desktop/Final-thesis-folder-24/classical/tschai/ty_juli.mid\n",
      "Processing: /Users/nixi/Desktop/Final-thesis-folder-24/classical/tschai/ty_september.mid\n",
      "Processing: /Users/nixi/Desktop/Final-thesis-folder-24/classical/tschai/ty_mai.mid\n",
      "Processing: /Users/nixi/Desktop/Final-thesis-folder-24/classical/tschai/ty_oktober.mid\n",
      "Processing: /Users/nixi/Desktop/Final-thesis-folder-24/classical/beeth/waldstein_1.mid\n"
     ]
    },
    {
     "name": "stderr",
     "output_type": "stream",
     "text": [
      "/Users/nixi/Desktop/Final-thesis-folder-24/.conda/lib/python3.11/site-packages/music21/midi/translate.py:874: TranslateWarning: Unable to determine instrument from <music21.midi.MidiEvent SEQUENCE_TRACK_NAME, track=5, channel=None, data=b'Copyright \\xa9 2003 by Bernd Krueger'>; getting generic Instrument\n",
      "  warnings.warn(\n"
     ]
    },
    {
     "name": "stdout",
     "output_type": "stream",
     "text": [
      "Processing: /Users/nixi/Desktop/Final-thesis-folder-24/classical/beeth/beethoven_opus90_2.mid\n",
      "Processing: /Users/nixi/Desktop/Final-thesis-folder-24/classical/beeth/waldstein_2.mid\n",
      "Processing: /Users/nixi/Desktop/Final-thesis-folder-24/classical/beeth/beethoven_opus90_1.mid\n",
      "Processing: /Users/nixi/Desktop/Final-thesis-folder-24/classical/beeth/waldstein_3.mid\n"
     ]
    },
    {
     "name": "stderr",
     "output_type": "stream",
     "text": [
      "/Users/nixi/Desktop/Final-thesis-folder-24/.conda/lib/python3.11/site-packages/music21/midi/translate.py:874: TranslateWarning: Unable to determine instrument from <music21.midi.MidiEvent SEQUENCE_TRACK_NAME, track=6, channel=None, data=b'Copyright \\xa9 2003 by Bernd Krueger'>; getting generic Instrument\n",
      "  warnings.warn(\n"
     ]
    },
    {
     "name": "stdout",
     "output_type": "stream",
     "text": [
      "Processing: /Users/nixi/Desktop/Final-thesis-folder-24/classical/beeth/beethoven_opus10_2.mid\n",
      "Processing: /Users/nixi/Desktop/Final-thesis-folder-24/classical/beeth/beethoven_opus10_3.mid\n",
      "Processing: /Users/nixi/Desktop/Final-thesis-folder-24/classical/beeth/elise.mid\n"
     ]
    },
    {
     "name": "stderr",
     "output_type": "stream",
     "text": [
      "/Users/nixi/Desktop/Final-thesis-folder-24/.conda/lib/python3.11/site-packages/music21/midi/translate.py:874: TranslateWarning: Unable to determine instrument from <music21.midi.MidiEvent SEQUENCE_TRACK_NAME, track=0, channel=None, data=b'F\\xfcr Elise'>; getting generic Instrument\n",
      "  warnings.warn(\n",
      "/Users/nixi/Desktop/Final-thesis-folder-24/.conda/lib/python3.11/site-packages/music21/midi/translate.py:874: TranslateWarning: Unable to determine instrument from <music21.midi.MidiEvent SEQUENCE_TRACK_NAME, track=3, channel=None, data=b'Beethoven F\\xfcr Elise'>; getting generic Instrument\n",
      "  warnings.warn(\n"
     ]
    },
    {
     "name": "stdout",
     "output_type": "stream",
     "text": [
      "Processing: /Users/nixi/Desktop/Final-thesis-folder-24/classical/beeth/beethoven_opus10_1.mid\n",
      "Processing: /Users/nixi/Desktop/Final-thesis-folder-24/classical/beeth/appass_2.mid\n"
     ]
    },
    {
     "name": "stderr",
     "output_type": "stream",
     "text": [
      "/Users/nixi/Desktop/Final-thesis-folder-24/.conda/lib/python3.11/site-packages/music21/midi/translate.py:874: TranslateWarning: Unable to determine instrument from <music21.midi.MidiEvent SEQUENCE_TRACK_NAME, track=5, channel=None, data=b'Copyright \\xa9 2001 by Bernd Kr\\xfcger'>; getting generic Instrument\n",
      "  warnings.warn(\n"
     ]
    },
    {
     "name": "stdout",
     "output_type": "stream",
     "text": [
      "Processing: /Users/nixi/Desktop/Final-thesis-folder-24/classical/beeth/appass_3.mid\n",
      "Processing: /Users/nixi/Desktop/Final-thesis-folder-24/classical/beeth/appass_1.mid\n",
      "Processing: /Users/nixi/Desktop/Final-thesis-folder-24/classical/beeth/beethoven_les_adieux_3.mid\n",
      "Processing: /Users/nixi/Desktop/Final-thesis-folder-24/classical/beeth/pathetique_1.mid\n"
     ]
    },
    {
     "name": "stderr",
     "output_type": "stream",
     "text": [
      "/Users/nixi/Desktop/Final-thesis-folder-24/.conda/lib/python3.11/site-packages/music21/midi/translate.py:874: TranslateWarning: Unable to determine instrument from <music21.midi.MidiEvent SEQUENCE_TRACK_NAME, track=4, channel=None, data=b'Beethoven Sonata No. 8 C minor, Grand Sonate path\\xe9tique 1. Movement'>; getting generic Instrument\n",
      "  warnings.warn(\n"
     ]
    },
    {
     "name": "stdout",
     "output_type": "stream",
     "text": [
      "Processing: /Users/nixi/Desktop/Final-thesis-folder-24/classical/beeth/mond_1.mid\n"
     ]
    },
    {
     "name": "stderr",
     "output_type": "stream",
     "text": [
      "/Users/nixi/Desktop/Final-thesis-folder-24/.conda/lib/python3.11/site-packages/music21/midi/translate.py:874: TranslateWarning: Unable to determine instrument from <music21.midi.MidiEvent SEQUENCE_TRACK_NAME, track=0, channel=None, data=b'Mondscheinsonate; der Gr\\xe4fin Giulietta Guiccardi gewidmet'>; getting generic Instrument\n",
      "  warnings.warn(\n",
      "/Users/nixi/Desktop/Final-thesis-folder-24/.conda/lib/python3.11/site-packages/music21/midi/translate.py:874: TranslateWarning: Unable to determine instrument from <music21.midi.MidiEvent SEQUENCE_TRACK_NAME, track=6, channel=None, data=b'Copyright \\xa9 1998 by Bernd Krueger'>; getting generic Instrument\n",
      "  warnings.warn(\n"
     ]
    },
    {
     "name": "stdout",
     "output_type": "stream",
     "text": [
      "Processing: /Users/nixi/Desktop/Final-thesis-folder-24/classical/beeth/beethoven_les_adieux_2.mid\n",
      "Processing: /Users/nixi/Desktop/Final-thesis-folder-24/classical/beeth/mond_3.mid\n"
     ]
    },
    {
     "name": "stderr",
     "output_type": "stream",
     "text": [
      "/Users/nixi/Desktop/Final-thesis-folder-24/.conda/lib/python3.11/site-packages/music21/midi/translate.py:874: TranslateWarning: Unable to determine instrument from <music21.midi.MidiEvent SEQUENCE_TRACK_NAME, track=5, channel=None, data=b'Copyright \\xa9 1998 by Bernd Krueger'>; getting generic Instrument\n",
      "  warnings.warn(\n"
     ]
    },
    {
     "name": "stdout",
     "output_type": "stream",
     "text": [
      "Processing: /Users/nixi/Desktop/Final-thesis-folder-24/classical/beeth/pathetique_2.mid\n"
     ]
    },
    {
     "name": "stderr",
     "output_type": "stream",
     "text": [
      "/Users/nixi/Desktop/Final-thesis-folder-24/.conda/lib/python3.11/site-packages/music21/midi/translate.py:874: TranslateWarning: Unable to determine instrument from <music21.midi.MidiEvent SEQUENCE_TRACK_NAME, track=6, channel=None, data=b'Beethoven Sonata No. 8 C minor, Grand Sonate path\\xe9tique 2. Movement'>; getting generic Instrument\n",
      "  warnings.warn(\n",
      "/Users/nixi/Desktop/Final-thesis-folder-24/.conda/lib/python3.11/site-packages/music21/midi/translate.py:874: TranslateWarning: Unable to determine instrument from <music21.midi.MidiEvent SEQUENCE_TRACK_NAME, track=7, channel=None, data=b'Copyright \\xa9 2003 by Bernd Krueger'>; getting generic Instrument\n",
      "  warnings.warn(\n"
     ]
    },
    {
     "name": "stdout",
     "output_type": "stream",
     "text": [
      "Processing: /Users/nixi/Desktop/Final-thesis-folder-24/classical/beeth/pathetique_3.mid\n"
     ]
    },
    {
     "name": "stderr",
     "output_type": "stream",
     "text": [
      "/Users/nixi/Desktop/Final-thesis-folder-24/.conda/lib/python3.11/site-packages/music21/midi/translate.py:874: TranslateWarning: Unable to determine instrument from <music21.midi.MidiEvent SEQUENCE_TRACK_NAME, track=4, channel=None, data=b'Beethoven Sonata No. 8 C minor, Grand Sonate path\\xe9tique 3. Movement'>; getting generic Instrument\n",
      "  warnings.warn(\n"
     ]
    },
    {
     "name": "stdout",
     "output_type": "stream",
     "text": [
      "Processing: /Users/nixi/Desktop/Final-thesis-folder-24/classical/beeth/mond_2.mid\n"
     ]
    },
    {
     "name": "stderr",
     "output_type": "stream",
     "text": [
      "/Users/nixi/Desktop/Final-thesis-folder-24/.conda/lib/python3.11/site-packages/music21/midi/translate.py:874: TranslateWarning: Unable to determine instrument from <music21.midi.MidiEvent SEQUENCE_TRACK_NAME, track=4, channel=None, data=b'Copyright \\xa9 1998 by Bernd Krueger'>; getting generic Instrument\n",
      "  warnings.warn(\n"
     ]
    },
    {
     "name": "stdout",
     "output_type": "stream",
     "text": [
      "Processing: /Users/nixi/Desktop/Final-thesis-folder-24/classical/beeth/beethoven_les_adieux_1.mid\n",
      "Processing: /Users/nixi/Desktop/Final-thesis-folder-24/classical/beeth/beethoven_opus22_1.mid\n",
      "Processing: /Users/nixi/Desktop/Final-thesis-folder-24/classical/beeth/beethoven_opus22_2.mid\n",
      "Processing: /Users/nixi/Desktop/Final-thesis-folder-24/classical/beeth/beethoven_hammerklavier_4.mid\n",
      "Processing: /Users/nixi/Desktop/Final-thesis-folder-24/classical/beeth/beethoven_opus22_3.mid\n",
      "Processing: /Users/nixi/Desktop/Final-thesis-folder-24/classical/beeth/beethoven_hammerklavier_1.mid\n",
      "Processing: /Users/nixi/Desktop/Final-thesis-folder-24/classical/beeth/beethoven_opus22_4.mid\n",
      "Processing: /Users/nixi/Desktop/Final-thesis-folder-24/classical/beeth/beethoven_hammerklavier_3.mid\n",
      "Processing: /Users/nixi/Desktop/Final-thesis-folder-24/classical/beeth/beethoven_hammerklavier_2.mid\n",
      "Processing: /Users/nixi/Desktop/Final-thesis-folder-24/classical/schubert/schumm-1.mid\n"
     ]
    },
    {
     "name": "stderr",
     "output_type": "stream",
     "text": [
      "/Users/nixi/Desktop/Final-thesis-folder-24/.conda/lib/python3.11/site-packages/music21/midi/translate.py:874: TranslateWarning: Unable to determine instrument from <music21.midi.MidiEvent SEQUENCE_TRACK_NAME, track=4, channel=None, data=b'Copyright \\xa9 1999 by Bernd Krueger'>; getting generic Instrument\n",
      "  warnings.warn(\n"
     ]
    },
    {
     "name": "stdout",
     "output_type": "stream",
     "text": [
      "Processing: /Users/nixi/Desktop/Final-thesis-folder-24/classical/schubert/schumm-2.mid\n",
      "Processing: /Users/nixi/Desktop/Final-thesis-folder-24/classical/schubert/schub_d960_4.mid\n",
      "Processing: /Users/nixi/Desktop/Final-thesis-folder-24/classical/schubert/schumm-3.mid\n",
      "Processing: /Users/nixi/Desktop/Final-thesis-folder-24/classical/schubert/schub_d960_1.mid\n",
      "Processing: /Users/nixi/Desktop/Final-thesis-folder-24/classical/schubert/schumm-6.mid\n",
      "Processing: /Users/nixi/Desktop/Final-thesis-folder-24/classical/schubert/schumm-4.mid\n",
      "Processing: /Users/nixi/Desktop/Final-thesis-folder-24/classical/schubert/schub_d960_2.mid\n",
      "Processing: /Users/nixi/Desktop/Final-thesis-folder-24/classical/schubert/schub_d960_3.mid\n",
      "Processing: /Users/nixi/Desktop/Final-thesis-folder-24/classical/schubert/schumm-5.mid\n",
      "Processing: /Users/nixi/Desktop/Final-thesis-folder-24/classical/schubert/schuim-4.mid\n"
     ]
    },
    {
     "name": "stderr",
     "output_type": "stream",
     "text": [
      "/Users/nixi/Desktop/Final-thesis-folder-24/.conda/lib/python3.11/site-packages/music21/midi/translate.py:874: TranslateWarning: Unable to determine instrument from <music21.midi.MidiEvent SEQUENCE_TRACK_NAME, track=4, channel=None, data=b'Copyright \\xa9 1996 by Bernd Krueger'>; getting generic Instrument\n",
      "  warnings.warn(\n"
     ]
    },
    {
     "name": "stdout",
     "output_type": "stream",
     "text": [
      "Processing: /Users/nixi/Desktop/Final-thesis-folder-24/classical/schubert/schuim-1.mid\n",
      "Processing: /Users/nixi/Desktop/Final-thesis-folder-24/classical/schubert/schuim-3.mid\n",
      "Processing: /Users/nixi/Desktop/Final-thesis-folder-24/classical/schubert/schuim-2.mid\n",
      "Processing: /Users/nixi/Desktop/Final-thesis-folder-24/classical/schubert/schubert_D850_4.mid\n",
      "Processing: /Users/nixi/Desktop/Final-thesis-folder-24/classical/schubert/schubert_D935_4.mid\n",
      "Processing: /Users/nixi/Desktop/Final-thesis-folder-24/classical/schubert/schub_d760_4.mid\n",
      "Processing: /Users/nixi/Desktop/Final-thesis-folder-24/classical/schubert/schubert_D850_1.mid\n",
      "Processing: /Users/nixi/Desktop/Final-thesis-folder-24/classical/schubert/schubert_D935_1.mid\n",
      "Processing: /Users/nixi/Desktop/Final-thesis-folder-24/classical/schubert/schub_d760_1.mid\n",
      "Processing: /Users/nixi/Desktop/Final-thesis-folder-24/classical/schubert/schubert_D850_2.mid\n",
      "Processing: /Users/nixi/Desktop/Final-thesis-folder-24/classical/schubert/schub_d760_3.mid\n",
      "Processing: /Users/nixi/Desktop/Final-thesis-folder-24/classical/schubert/schubert_D935_2.mid\n",
      "Processing: /Users/nixi/Desktop/Final-thesis-folder-24/classical/schubert/schubert_D935_3.mid\n",
      "Processing: /Users/nixi/Desktop/Final-thesis-folder-24/classical/schubert/schubert_D850_3.mid\n",
      "Processing: /Users/nixi/Desktop/Final-thesis-folder-24/classical/schubert/schub_d760_2.mid\n",
      "Processing: /Users/nixi/Desktop/Final-thesis-folder-24/classical/schubert/schu_143_2.mid\n",
      "Processing: /Users/nixi/Desktop/Final-thesis-folder-24/classical/schubert/schu_143_3.mid\n",
      "Processing: /Users/nixi/Desktop/Final-thesis-folder-24/classical/schubert/schu_143_1.mid\n",
      "Processing: /Users/nixi/Desktop/Final-thesis-folder-24/classical/granados/gra_esp_4.mid\n"
     ]
    },
    {
     "name": "stderr",
     "output_type": "stream",
     "text": [
      "/Users/nixi/Desktop/Final-thesis-folder-24/.conda/lib/python3.11/site-packages/music21/midi/translate.py:874: TranslateWarning: Unable to determine instrument from <music21.midi.MidiEvent SEQUENCE_TRACK_NAME, track=4, channel=None, data=b'Copyright \\xa9 2001 by Bernd Kr\\xfcger'>; getting generic Instrument\n",
      "  warnings.warn(\n"
     ]
    },
    {
     "name": "stdout",
     "output_type": "stream",
     "text": [
      "Processing: /Users/nixi/Desktop/Final-thesis-folder-24/classical/granados/gra_esp_2.mid\n",
      "Processing: /Users/nixi/Desktop/Final-thesis-folder-24/classical/granados/gra_esp_3.mid\n",
      "Processing: /Users/nixi/Desktop/Final-thesis-folder-24/classical/albeniz/alb_se8.mid\n",
      "Processing: /Users/nixi/Desktop/Final-thesis-folder-24/classical/albeniz/alb_esp3.mid\n",
      "Processing: /Users/nixi/Desktop/Final-thesis-folder-24/classical/albeniz/alb_se4.mid\n",
      "Processing: /Users/nixi/Desktop/Final-thesis-folder-24/classical/albeniz/alb_se5.mid\n",
      "Processing: /Users/nixi/Desktop/Final-thesis-folder-24/classical/albeniz/alb_esp2.mid\n",
      "Processing: /Users/nixi/Desktop/Final-thesis-folder-24/classical/albeniz/alb_se7.mid\n",
      "Processing: /Users/nixi/Desktop/Final-thesis-folder-24/classical/albeniz/alb_se6.mid\n",
      "Processing: /Users/nixi/Desktop/Final-thesis-folder-24/classical/albeniz/alb_esp1.mid\n",
      "Processing: /Users/nixi/Desktop/Final-thesis-folder-24/classical/albeniz/alb_esp5.mid\n",
      "Processing: /Users/nixi/Desktop/Final-thesis-folder-24/classical/albeniz/alb_se2.mid\n",
      "Processing: /Users/nixi/Desktop/Final-thesis-folder-24/classical/albeniz/alb_se3.mid\n",
      "Processing: /Users/nixi/Desktop/Final-thesis-folder-24/classical/albeniz/alb_esp4.mid\n",
      "Processing: /Users/nixi/Desktop/Final-thesis-folder-24/classical/albeniz/alb_esp6.mid\n",
      "Processing: /Users/nixi/Desktop/Final-thesis-folder-24/classical/albeniz/alb_se1.mid\n",
      "Processing: /Users/nixi/Desktop/Final-thesis-folder-24/classical/mendelssohn/mendel_op19_1.mid\n"
     ]
    },
    {
     "name": "stderr",
     "output_type": "stream",
     "text": [
      "/Users/nixi/Desktop/Final-thesis-folder-24/.conda/lib/python3.11/site-packages/music21/midi/translate.py:874: TranslateWarning: Unable to determine instrument from <music21.midi.MidiEvent SEQUENCE_TRACK_NAME, track=6, channel=None, data=b'Copyright \\xa9 2010 by Bernd Krueger'>; getting generic Instrument\n",
      "  warnings.warn(\n"
     ]
    },
    {
     "name": "stdout",
     "output_type": "stream",
     "text": [
      "Processing: /Users/nixi/Desktop/Final-thesis-folder-24/classical/mendelssohn/mendel_op19_3.mid\n"
     ]
    },
    {
     "name": "stderr",
     "output_type": "stream",
     "text": [
      "/Users/nixi/Desktop/Final-thesis-folder-24/.conda/lib/python3.11/site-packages/music21/midi/translate.py:874: TranslateWarning: Unable to determine instrument from <music21.midi.MidiEvent SEQUENCE_TRACK_NAME, track=0, channel=None, data=b'J\\xe4gerlied'>; getting generic Instrument\n",
      "  warnings.warn(\n"
     ]
    },
    {
     "name": "stdout",
     "output_type": "stream",
     "text": [
      "Processing: /Users/nixi/Desktop/Final-thesis-folder-24/classical/mendelssohn/mendel_op19_2.mid\n",
      "Processing: /Users/nixi/Desktop/Final-thesis-folder-24/classical/mendelssohn/mendel_op19_6.mid\n",
      "Processing: /Users/nixi/Desktop/Final-thesis-folder-24/classical/mendelssohn/mendel_op19_5.mid\n",
      "Processing: /Users/nixi/Desktop/Final-thesis-folder-24/classical/mendelssohn/mendel_op19_4.mid\n",
      "Processing: /Users/nixi/Desktop/Final-thesis-folder-24/classical/mendelssohn/mendel_op62_3.mid\n",
      "Processing: /Users/nixi/Desktop/Final-thesis-folder-24/classical/mendelssohn/mendel_op62_4.mid\n",
      "Processing: /Users/nixi/Desktop/Final-thesis-folder-24/classical/mendelssohn/mendel_op62_5.mid\n",
      "Processing: /Users/nixi/Desktop/Final-thesis-folder-24/classical/mendelssohn/mendel_op53_5.mid\n",
      "Processing: /Users/nixi/Desktop/Final-thesis-folder-24/classical/mendelssohn/mendel_op30_5.mid\n",
      "Processing: /Users/nixi/Desktop/Final-thesis-folder-24/classical/mendelssohn/mendel_op30_4.mid\n",
      "Processing: /Users/nixi/Desktop/Final-thesis-folder-24/classical/mendelssohn/mendel_op30_1.mid\n"
     ]
    },
    {
     "name": "stderr",
     "output_type": "stream",
     "text": [
      "/Users/nixi/Desktop/Final-thesis-folder-24/.conda/lib/python3.11/site-packages/music21/midi/translate.py:874: TranslateWarning: Unable to determine instrument from <music21.midi.MidiEvent SEQUENCE_TRACK_NAME, track=5, channel=None, data=b'Copyright \\xa9 2000 by Bernd Kr\\xfcger'>; getting generic Instrument\n",
      "  warnings.warn(\n"
     ]
    },
    {
     "name": "stdout",
     "output_type": "stream",
     "text": [
      "Processing: /Users/nixi/Desktop/Final-thesis-folder-24/classical/mendelssohn/mendel_op30_3.mid\n",
      "Processing: /Users/nixi/Desktop/Final-thesis-folder-24/classical/mendelssohn/mendel_op30_2.mid\n",
      "Processing: /Users/nixi/Desktop/Final-thesis-folder-24/classical/debussy/deb_prel.mid\n",
      "Processing: /Users/nixi/Desktop/Final-thesis-folder-24/classical/debussy/debussy_cc_6.mid\n",
      "Processing: /Users/nixi/Desktop/Final-thesis-folder-24/classical/debussy/debussy_cc_4.mid\n",
      "Processing: /Users/nixi/Desktop/Final-thesis-folder-24/classical/debussy/deb_menu.mid\n",
      "Processing: /Users/nixi/Desktop/Final-thesis-folder-24/classical/debussy/debussy_cc_1.mid\n",
      "Processing: /Users/nixi/Desktop/Final-thesis-folder-24/classical/debussy/debussy_cc_2.mid\n",
      "Processing: /Users/nixi/Desktop/Final-thesis-folder-24/classical/debussy/debussy_cc_3.mid\n",
      "Processing: /Users/nixi/Desktop/Final-thesis-folder-24/classical/grieg/grieg_kobold.mid\n",
      "Processing: /Users/nixi/Desktop/Final-thesis-folder-24/classical/grieg/grieg_halling.mid\n"
     ]
    },
    {
     "name": "stderr",
     "output_type": "stream",
     "text": [
      "/Users/nixi/Desktop/Final-thesis-folder-24/.conda/lib/python3.11/site-packages/music21/midi/translate.py:874: TranslateWarning: Unable to determine instrument from <music21.midi.MidiEvent SEQUENCE_TRACK_NAME, track=0, channel=None, data=b'Grieg: Lyrische St\\xfccke Book II Opus 38 Nr. 4 - Halling'>; getting generic Instrument\n",
      "  warnings.warn(\n",
      "/Users/nixi/Desktop/Final-thesis-folder-24/.conda/lib/python3.11/site-packages/music21/midi/translate.py:874: TranslateWarning: Unable to determine instrument from <music21.midi.MidiEvent SEQUENCE_TRACK_NAME, track=0, channel=None, data=b'W\\xe4chterlied Op12, No. 3'>; getting generic Instrument\n",
      "  warnings.warn(\n"
     ]
    },
    {
     "name": "stdout",
     "output_type": "stream",
     "text": [
      "Processing: /Users/nixi/Desktop/Final-thesis-folder-24/classical/grieg/grieg_waechter.mid\n",
      "Processing: /Users/nixi/Desktop/Final-thesis-folder-24/classical/grieg/grieg_walzer.mid\n",
      "Processing: /Users/nixi/Desktop/Final-thesis-folder-24/classical/grieg/grieg_butterfly.mid\n"
     ]
    },
    {
     "name": "stderr",
     "output_type": "stream",
     "text": [
      "/Users/nixi/Desktop/Final-thesis-folder-24/.conda/lib/python3.11/site-packages/music21/midi/translate.py:874: TranslateWarning: Unable to determine instrument from <music21.midi.MidiEvent SEQUENCE_TRACK_NAME, track=0, channel=None, data=b'Grieg: Lyrische St\\xfccke Op. 43 No. 1 - Schmetterling'>; getting generic Instrument\n",
      "  warnings.warn(\n"
     ]
    },
    {
     "name": "stdout",
     "output_type": "stream",
     "text": [
      "Processing: /Users/nixi/Desktop/Final-thesis-folder-24/classical/grieg/grieg_wanderer.mid\n",
      "Processing: /Users/nixi/Desktop/Final-thesis-folder-24/classical/grieg/grieg_album.mid\n"
     ]
    },
    {
     "name": "stderr",
     "output_type": "stream",
     "text": [
      "/Users/nixi/Desktop/Final-thesis-folder-24/.conda/lib/python3.11/site-packages/music21/midi/translate.py:874: TranslateWarning: Unable to determine instrument from <music21.midi.MidiEvent SEQUENCE_TRACK_NAME, track=0, channel=None, data=b'Grieg: Lyrische St\\xfccke Op. 43 Nr. 2 - Einsamer Wanderer'>; getting generic Instrument\n",
      "  warnings.warn(\n",
      "/Users/nixi/Desktop/Final-thesis-folder-24/.conda/lib/python3.11/site-packages/music21/midi/translate.py:874: TranslateWarning: Unable to determine instrument from <music21.midi.MidiEvent SEQUENCE_TRACK_NAME, track=0, channel=None, data=b'Grieg: Lyrische St\\xfccke, Albumblatt, Opus 42 Nr. 2'>; getting generic Instrument\n",
      "  warnings.warn(\n"
     ]
    },
    {
     "name": "stdout",
     "output_type": "stream",
     "text": [
      "Processing: /Users/nixi/Desktop/Final-thesis-folder-24/classical/grieg/grieg_voeglein.mid\n"
     ]
    },
    {
     "name": "stderr",
     "output_type": "stream",
     "text": [
      "/Users/nixi/Desktop/Final-thesis-folder-24/.conda/lib/python3.11/site-packages/music21/midi/translate.py:874: TranslateWarning: Unable to determine instrument from <music21.midi.MidiEvent SEQUENCE_TRACK_NAME, track=0, channel=None, data=b'V\\xf6glein Op 43, No. 4'>; getting generic Instrument\n",
      "  warnings.warn(\n",
      "/Users/nixi/Desktop/Final-thesis-folder-24/.conda/lib/python3.11/site-packages/music21/midi/translate.py:874: TranslateWarning: Unable to determine instrument from <music21.midi.MidiEvent SEQUENCE_TRACK_NAME, track=3, channel=None, data=b'Grieg: V\\xf6glein, Op. 43 No. 4'>; getting generic Instrument\n",
      "  warnings.warn(\n"
     ]
    },
    {
     "name": "stdout",
     "output_type": "stream",
     "text": [
      "Processing: /Users/nixi/Desktop/Final-thesis-folder-24/classical/grieg/grieg_spring.mid\n"
     ]
    },
    {
     "name": "stderr",
     "output_type": "stream",
     "text": [
      "/Users/nixi/Desktop/Final-thesis-folder-24/.conda/lib/python3.11/site-packages/music21/midi/translate.py:874: TranslateWarning: Unable to determine instrument from <music21.midi.MidiEvent SEQUENCE_TRACK_NAME, track=0, channel=None, data=b'Grieg: Lyrische St\\xfccke Op. 43 Nr. 6 Book III - An den Fr\\xfchling'>; getting generic Instrument\n",
      "  warnings.warn(\n"
     ]
    },
    {
     "name": "stdout",
     "output_type": "stream",
     "text": [
      "Processing: /Users/nixi/Desktop/Final-thesis-folder-24/classical/grieg/grieg_berceuse.mid\n"
     ]
    },
    {
     "name": "stderr",
     "output_type": "stream",
     "text": [
      "/Users/nixi/Desktop/Final-thesis-folder-24/.conda/lib/python3.11/site-packages/music21/midi/translate.py:874: TranslateWarning: Unable to determine instrument from <music21.midi.MidiEvent SEQUENCE_TRACK_NAME, track=5, channel=None, data=b'Copyright \\xa9 2012 by Bernd Krueger'>; getting generic Instrument\n",
      "  warnings.warn(\n"
     ]
    },
    {
     "name": "stdout",
     "output_type": "stream",
     "text": [
      "Processing: /Users/nixi/Desktop/Final-thesis-folder-24/classical/grieg/grieg_brooklet.mid\n"
     ]
    },
    {
     "name": "stderr",
     "output_type": "stream",
     "text": [
      "/Users/nixi/Desktop/Final-thesis-folder-24/.conda/lib/python3.11/site-packages/music21/midi/translate.py:874: TranslateWarning: Unable to determine instrument from <music21.midi.MidiEvent SEQUENCE_TRACK_NAME, track=0, channel=None, data=b'Grieg: Lyrische St\\xfccke, B\\xe4chlein, Opus 62 Nr. 4'>; getting generic Instrument\n",
      "  warnings.warn(\n"
     ]
    },
    {
     "name": "stdout",
     "output_type": "stream",
     "text": [
      "Processing: /Users/nixi/Desktop/Final-thesis-folder-24/classical/grieg/grieg_once_upon_a_time.mid\n"
     ]
    },
    {
     "name": "stderr",
     "output_type": "stream",
     "text": [
      "/Users/nixi/Desktop/Final-thesis-folder-24/.conda/lib/python3.11/site-packages/music21/midi/translate.py:874: TranslateWarning: Unable to determine instrument from <music21.midi.MidiEvent SEQUENCE_TRACK_NAME, track=0, channel=None, data=b'Grieg: Lyrische St\\xfccke, Es war einmal, Opus 71 Nr. 1'>; getting generic Instrument\n",
      "  warnings.warn(\n"
     ]
    },
    {
     "name": "stdout",
     "output_type": "stream",
     "text": [
      "Processing: /Users/nixi/Desktop/Final-thesis-folder-24/classical/grieg/grieg_march.mid\n"
     ]
    },
    {
     "name": "stderr",
     "output_type": "stream",
     "text": [
      "/Users/nixi/Desktop/Final-thesis-folder-24/.conda/lib/python3.11/site-packages/music21/midi/translate.py:874: TranslateWarning: Unable to determine instrument from <music21.midi.MidiEvent SEQUENCE_TRACK_NAME, track=0, channel=None, data=b'Grieg: Lyrische St\\xfccke, Norwegischer Bauernmarsch, Opus 54 Nr. 2'>; getting generic Instrument\n",
      "  warnings.warn(\n"
     ]
    },
    {
     "name": "stdout",
     "output_type": "stream",
     "text": [
      "Processing: /Users/nixi/Desktop/Final-thesis-folder-24/classical/grieg/grieg_zwerge.mid\n",
      "Processing: /Users/nixi/Desktop/Final-thesis-folder-24/classical/grieg/grieg_wedding.mid\n",
      "Processing: /Users/nixi/Desktop/Final-thesis-folder-24/classical/grieg/grieg_elfentanz.mid\n"
     ]
    },
    {
     "name": "stderr",
     "output_type": "stream",
     "text": [
      "/Users/nixi/Desktop/Final-thesis-folder-24/.conda/lib/python3.11/site-packages/music21/midi/translate.py:874: TranslateWarning: Unable to determine instrument from <music21.midi.MidiEvent SEQUENCE_TRACK_NAME, track=0, channel=None, data=b'Grieg: Lyrische St\\xfccke Op. 12 Nr. 4 Elfentanz'>; getting generic Instrument\n",
      "  warnings.warn(\n"
     ]
    },
    {
     "name": "stdout",
     "output_type": "stream",
     "text": [
      "Processing: /Users/nixi/Desktop/Final-thesis-folder-24/classical/bach/bach_847.mid\n"
     ]
    },
    {
     "name": "stderr",
     "output_type": "stream",
     "text": [
      "/Users/nixi/Desktop/Final-thesis-folder-24/.conda/lib/python3.11/site-packages/music21/midi/translate.py:874: TranslateWarning: Unable to determine instrument from <music21.midi.MidiEvent SEQUENCE_TRACK_NAME, track=7, channel=None, data=b'Copyright 2004 by Bernd Kr\\xfcger.'>; getting generic Instrument\n",
      "  warnings.warn(\n"
     ]
    },
    {
     "name": "stdout",
     "output_type": "stream",
     "text": [
      "Processing: /Users/nixi/Desktop/Final-thesis-folder-24/classical/bach/bach_846.mid\n"
     ]
    },
    {
     "name": "stderr",
     "output_type": "stream",
     "text": [
      "/Users/nixi/Desktop/Final-thesis-folder-24/.conda/lib/python3.11/site-packages/music21/midi/translate.py:874: TranslateWarning: Unable to determine instrument from <music21.midi.MidiEvent SEQUENCE_TRACK_NAME, track=8, channel=None, data=b'Copyright 2004 by Bernd Kr\\xfcger.'>; getting generic Instrument\n",
      "  warnings.warn(\n"
     ]
    },
    {
     "name": "stdout",
     "output_type": "stream",
     "text": [
      "Processing: /Users/nixi/Desktop/Final-thesis-folder-24/classical/bach/bach_850.mid\n"
     ]
    },
    {
     "name": "stderr",
     "output_type": "stream",
     "text": [
      "/Users/nixi/Desktop/Final-thesis-folder-24/.conda/lib/python3.11/site-packages/music21/midi/translate.py:874: TranslateWarning: Unable to determine instrument from <music21.midi.MidiEvent SEQUENCE_TRACK_NAME, track=0, channel=None, data=b'Pr\\xe4ludium und Fuge in D-Dur, BWV 850'>; getting generic Instrument\n",
      "  warnings.warn(\n",
      "/Users/nixi/Desktop/Final-thesis-folder-24/.conda/lib/python3.11/site-packages/music21/midi/translate.py:874: TranslateWarning: Unable to determine instrument from <music21.midi.MidiEvent SEQUENCE_TRACK_NAME, track=8, channel=None, data=b'Copyright 1997 by Bernd Kr\\xfcger.'>; getting generic Instrument\n",
      "  warnings.warn(\n"
     ]
    },
    {
     "name": "stdout",
     "output_type": "stream",
     "text": [
      "Processing: /Users/nixi/Desktop/Final-thesis-folder-24/classical/muss/muss_2.mid\n"
     ]
    },
    {
     "name": "stderr",
     "output_type": "stream",
     "text": [
      "/Users/nixi/Desktop/Final-thesis-folder-24/.conda/lib/python3.11/site-packages/music21/midi/translate.py:874: TranslateWarning: Unable to determine instrument from <music21.midi.MidiEvent SEQUENCE_TRACK_NAME, track=6, channel=None, data=b'Copyright \\xa9 2000 by Bernd Kr\\xfcger'>; getting generic Instrument\n",
      "  warnings.warn(\n"
     ]
    },
    {
     "name": "stdout",
     "output_type": "stream",
     "text": [
      "Processing: /Users/nixi/Desktop/Final-thesis-folder-24/classical/muss/muss_3.mid\n",
      "Processing: /Users/nixi/Desktop/Final-thesis-folder-24/classical/muss/muss_1.mid\n",
      "Processing: /Users/nixi/Desktop/Final-thesis-folder-24/classical/muss/muss_4.mid\n",
      "Processing: /Users/nixi/Desktop/Final-thesis-folder-24/classical/muss/muss_5.mid\n"
     ]
    },
    {
     "name": "stderr",
     "output_type": "stream",
     "text": [
      "/Users/nixi/Desktop/Final-thesis-folder-24/.conda/lib/python3.11/site-packages/music21/midi/translate.py:874: TranslateWarning: Unable to determine instrument from <music21.midi.MidiEvent SEQUENCE_TRACK_NAME, track=0, channel=None, data=b'Promenade - Ballett der K\\xfcchlein  in ihren Eierschalen'>; getting generic Instrument\n",
      "  warnings.warn(\n"
     ]
    },
    {
     "name": "stdout",
     "output_type": "stream",
     "text": [
      "Processing: /Users/nixi/Desktop/Final-thesis-folder-24/classical/muss/muss_7.mid\n",
      "Processing: /Users/nixi/Desktop/Final-thesis-folder-24/classical/muss/muss_6.mid\n",
      "Processing: /Users/nixi/Desktop/Final-thesis-folder-24/classical/muss/muss_8.mid\n"
     ]
    },
    {
     "name": "stderr",
     "output_type": "stream",
     "text": [
      "/Users/nixi/Desktop/Final-thesis-folder-24/.conda/lib/python3.11/site-packages/music21/midi/translate.py:874: TranslateWarning: Unable to determine instrument from <music21.midi.MidiEvent SEQUENCE_TRACK_NAME, track=0, channel=None, data=b'Baba-Yaga  - Das gro\\xdfe Tor von Kiew'>; getting generic Instrument\n",
      "  warnings.warn(\n"
     ]
    },
    {
     "name": "stdout",
     "output_type": "stream",
     "text": [
      "Processing: /Users/nixi/Desktop/Final-thesis-folder-24/classical/borodin/bor_ps1.mid\n",
      "Processing: /Users/nixi/Desktop/Final-thesis-folder-24/classical/borodin/bor_ps2.mid\n",
      "Processing: /Users/nixi/Desktop/Final-thesis-folder-24/classical/borodin/bor_ps3.mid\n",
      "Processing: /Users/nixi/Desktop/Final-thesis-folder-24/classical/borodin/bor_ps7.mid\n",
      "Processing: /Users/nixi/Desktop/Final-thesis-folder-24/classical/borodin/bor_ps6.mid\n",
      "Processing: /Users/nixi/Desktop/Final-thesis-folder-24/classical/borodin/bor_ps4.mid\n",
      "Processing: /Users/nixi/Desktop/Final-thesis-folder-24/classical/borodin/bor_ps5.mid\n",
      "Processing: /Users/nixi/Desktop/Final-thesis-folder-24/classical/brahms/brahms_opus1_4.mid\n",
      "Processing: /Users/nixi/Desktop/Final-thesis-folder-24/classical/brahms/brahms_opus1_2.mid\n",
      "Processing: /Users/nixi/Desktop/Final-thesis-folder-24/classical/brahms/br_rhap.mid\n"
     ]
    },
    {
     "name": "stderr",
     "output_type": "stream",
     "text": [
      "/Users/nixi/Desktop/Final-thesis-folder-24/.conda/lib/python3.11/site-packages/music21/midi/translate.py:874: TranslateWarning: Unable to determine instrument from <music21.midi.MidiEvent SEQUENCE_TRACK_NAME, track=4, channel=None, data=b'Produced 1997 by Bernd Kr\\xfcger.'>; getting generic Instrument\n",
      "  warnings.warn(\n"
     ]
    },
    {
     "name": "stdout",
     "output_type": "stream",
     "text": [
      "Processing: /Users/nixi/Desktop/Final-thesis-folder-24/classical/brahms/brahms_opus1_3.mid\n",
      "Processing: /Users/nixi/Desktop/Final-thesis-folder-24/classical/brahms/brahms_opus1_1.mid\n",
      "Processing: /Users/nixi/Desktop/Final-thesis-folder-24/classical/brahms/brahms_opus117_1.mid\n",
      "Processing: /Users/nixi/Desktop/Final-thesis-folder-24/classical/brahms/br_im5.mid\n",
      "Processing: /Users/nixi/Desktop/Final-thesis-folder-24/classical/brahms/brahms_opus117_2.mid\n",
      "Processing: /Users/nixi/Desktop/Final-thesis-folder-24/classical/brahms/br_im2.mid\n",
      "Total notes processed: 11362\n",
      "Number of unique notes: 222\n",
      "Number of sequences: 11262\n",
      "Shape of network_output: (11262, 222)\n"
     ]
    }
   ],
   "source": [
    "import os\n",
    "import numpy as np\n",
    "import pandas as pd\n",
    "from music21 import converter, instrument, note, chord, stream, stream\n",
    "from sklearn.model_selection import train_test_split\n",
    "from tensorflow.keras.models import Sequential\n",
    "from tensorflow.keras.layers import LSTM, Dense, Dropout\n",
    "from tensorflow.keras.utils import to_categorical\n",
    "\n",
    "# Set the path to your classical music MIDI files\n",
    "dataset_path = '/Users/nixi/Desktop/Final-thesis-folder-24/classical'\n",
    "\n",
    "def get_notes(midi_path):\n",
    "    notes = []\n",
    "    try:\n",
    "        midi = converter.parse(midi_path)\n",
    "        parts = instrument.partitionByInstrument(midi)\n",
    "        if parts:\n",
    "            notes_to_parse = parts.parts[0].recurse()\n",
    "        else:\n",
    "            notes_to_parse = midi.flat.notes\n",
    "\n",
    "        for element in notes_to_parse:\n",
    "            if isinstance(element, note.Note):\n",
    "                notes.append(str(element.pitch))\n",
    "            elif isinstance(element, chord.Chord):\n",
    "                notes.append('.'.join(str(n) for n in element.normalOrder))\n",
    "    except Exception as e:\n",
    "        print(f\"Error processing {midi_path}: {e}\")\n",
    "    return notes\n",
    "\n",
    "all_notes = []\n",
    "for root, dirs, files in os.walk(dataset_path):\n",
    "    for file in files:\n",
    "        if file.endswith('.mid'):\n",
    "            file_path = os.path.join(root, file)\n",
    "            print(f\"Processing: {file_path}\")  # Debug print\n",
    "            notes = get_notes(file_path)\n",
    "            all_notes.extend(notes)\n",
    "\n",
    "print(f\"Total notes processed: {len(all_notes)}\")  # Debug print\n",
    "\n",
    "# Get all unique note names\n",
    "unique_notes = sorted(set(all_notes))\n",
    "note_to_int = dict((note, number) for number, note in enumerate(unique_notes))\n",
    "\n",
    "print(f\"Number of unique notes: {len(unique_notes)}\")  # Debug print\n",
    "\n",
    "# Prepare sequences\n",
    "sequence_length = 100\n",
    "network_input = []\n",
    "network_output = []\n",
    "\n",
    "for i in range(0, len(all_notes) - sequence_length, 1):\n",
    "    sequence_in = all_notes[i:i + sequence_length]\n",
    "    sequence_out = all_notes[i + sequence_length]\n",
    "    network_input.append([note_to_int[char] for char in sequence_in])\n",
    "    network_output.append(note_to_int[sequence_out])\n",
    "\n",
    "n_patterns = len(network_input)\n",
    "n_vocab = len(unique_notes)\n",
    "\n",
    "print(f\"Number of sequences: {n_patterns}\")  # Debug print\n",
    "\n",
    "network_input = np.reshape(network_input, (n_patterns, sequence_length, 1))\n",
    "network_input = network_input / float(n_vocab)\n",
    "\n",
    "# Ensure network_output is not empty before converting to categorical\n",
    "if network_output:\n",
    "    network_output = to_categorical(network_output)\n",
    "    print(f\"Shape of network_output: {network_output.shape}\")  # Debug print\n",
    "else:\n",
    "    print(\"Error: network_output is empty\")\n",
    "\n",
    "# The rest of your code (model definition, training, etc.) goes here"
   ]
  },
  {
   "cell_type": "code",
   "execution_count": 10,
   "id": "d0ddd9b7",
   "metadata": {},
   "outputs": [
    {
     "name": "stdout",
     "output_type": "stream",
     "text": [
      "Number of notes processed: 11362\n",
      "Number of unique notes: 222\n"
     ]
    }
   ],
   "source": [
    "print(f\"Number of notes processed: {len(all_notes)}\")\n",
    "print(f\"Number of unique notes: {len(unique_notes)}\")"
   ]
  },
  {
   "cell_type": "code",
   "execution_count": 11,
   "id": "db9f8a55",
   "metadata": {},
   "outputs": [
    {
     "name": "stdout",
     "output_type": "stream",
     "text": [
      "Epoch 1/50\n"
     ]
    },
    {
     "name": "stderr",
     "output_type": "stream",
     "text": [
      "/Users/nixi/Desktop/Final-thesis-folder-24/.conda/lib/python3.11/site-packages/keras/src/layers/rnn/rnn.py:204: UserWarning: Do not pass an `input_shape`/`input_dim` argument to a layer. When using Sequential models, prefer using an `Input(shape)` object as the first layer in the model instead.\n",
      "  super().__init__(**kwargs)\n"
     ]
    },
    {
     "name": "stdout",
     "output_type": "stream",
     "text": [
      "\u001b[1m176/176\u001b[0m \u001b[32m━━━━━━━━━━━━━━━━━━━━\u001b[0m\u001b[37m\u001b[0m \u001b[1m103s\u001b[0m 577ms/step - loss: 4.8651\n",
      "Epoch 2/50\n",
      "\u001b[1m176/176\u001b[0m \u001b[32m━━━━━━━━━━━━━━━━━━━━\u001b[0m\u001b[37m\u001b[0m \u001b[1m105s\u001b[0m 594ms/step - loss: 4.4765\n",
      "Epoch 3/50\n",
      "\u001b[1m176/176\u001b[0m \u001b[32m━━━━━━━━━━━━━━━━━━━━\u001b[0m\u001b[37m\u001b[0m \u001b[1m104s\u001b[0m 591ms/step - loss: 4.4072\n",
      "Epoch 4/50\n",
      "\u001b[1m176/176\u001b[0m \u001b[32m━━━━━━━━━━━━━━━━━━━━\u001b[0m\u001b[37m\u001b[0m \u001b[1m105s\u001b[0m 596ms/step - loss: 4.3435\n",
      "Epoch 5/50\n",
      "\u001b[1m176/176\u001b[0m \u001b[32m━━━━━━━━━━━━━━━━━━━━\u001b[0m\u001b[37m\u001b[0m \u001b[1m105s\u001b[0m 598ms/step - loss: 4.2602\n",
      "Epoch 6/50\n",
      "\u001b[1m176/176\u001b[0m \u001b[32m━━━━━━━━━━━━━━━━━━━━\u001b[0m\u001b[37m\u001b[0m \u001b[1m106s\u001b[0m 604ms/step - loss: 4.2142\n",
      "Epoch 7/50\n",
      "\u001b[1m176/176\u001b[0m \u001b[32m━━━━━━━━━━━━━━━━━━━━\u001b[0m\u001b[37m\u001b[0m \u001b[1m112s\u001b[0m 635ms/step - loss: 4.1338\n",
      "Epoch 8/50\n",
      "\u001b[1m176/176\u001b[0m \u001b[32m━━━━━━━━━━━━━━━━━━━━\u001b[0m\u001b[37m\u001b[0m \u001b[1m113s\u001b[0m 639ms/step - loss: 4.0038\n",
      "Epoch 9/50\n",
      "\u001b[1m176/176\u001b[0m \u001b[32m━━━━━━━━━━━━━━━━━━━━\u001b[0m\u001b[37m\u001b[0m \u001b[1m113s\u001b[0m 640ms/step - loss: 3.9098\n",
      "Epoch 10/50\n",
      "\u001b[1m176/176\u001b[0m \u001b[32m━━━━━━━━━━━━━━━━━━━━\u001b[0m\u001b[37m\u001b[0m \u001b[1m113s\u001b[0m 644ms/step - loss: 3.8225\n",
      "Epoch 11/50\n",
      "\u001b[1m176/176\u001b[0m \u001b[32m━━━━━━━━━━━━━━━━━━━━\u001b[0m\u001b[37m\u001b[0m \u001b[1m113s\u001b[0m 643ms/step - loss: 3.6574\n",
      "Epoch 12/50\n",
      "\u001b[1m176/176\u001b[0m \u001b[32m━━━━━━━━━━━━━━━━━━━━\u001b[0m\u001b[37m\u001b[0m \u001b[1m115s\u001b[0m 652ms/step - loss: 3.5732\n",
      "Epoch 13/50\n",
      "\u001b[1m176/176\u001b[0m \u001b[32m━━━━━━━━━━━━━━━━━━━━\u001b[0m\u001b[37m\u001b[0m \u001b[1m117s\u001b[0m 665ms/step - loss: 3.5092\n",
      "Epoch 14/50\n",
      "\u001b[1m176/176\u001b[0m \u001b[32m━━━━━━━━━━━━━━━━━━━━\u001b[0m\u001b[37m\u001b[0m \u001b[1m116s\u001b[0m 660ms/step - loss: 3.3149\n",
      "Epoch 15/50\n",
      "\u001b[1m176/176\u001b[0m \u001b[32m━━━━━━━━━━━━━━━━━━━━\u001b[0m\u001b[37m\u001b[0m \u001b[1m115s\u001b[0m 655ms/step - loss: 3.2491\n",
      "Epoch 16/50\n",
      "\u001b[1m176/176\u001b[0m \u001b[32m━━━━━━━━━━━━━━━━━━━━\u001b[0m\u001b[37m\u001b[0m \u001b[1m116s\u001b[0m 659ms/step - loss: 3.1248\n",
      "Epoch 17/50\n",
      "\u001b[1m176/176\u001b[0m \u001b[32m━━━━━━━━━━━━━━━━━━━━\u001b[0m\u001b[37m\u001b[0m \u001b[1m119s\u001b[0m 675ms/step - loss: 2.9862\n",
      "Epoch 18/50\n",
      "\u001b[1m176/176\u001b[0m \u001b[32m━━━━━━━━━━━━━━━━━━━━\u001b[0m\u001b[37m\u001b[0m \u001b[1m118s\u001b[0m 669ms/step - loss: 2.8535\n",
      "Epoch 19/50\n",
      "\u001b[1m176/176\u001b[0m \u001b[32m━━━━━━━━━━━━━━━━━━━━\u001b[0m\u001b[37m\u001b[0m \u001b[1m117s\u001b[0m 663ms/step - loss: 2.7931\n",
      "Epoch 20/50\n",
      "\u001b[1m176/176\u001b[0m \u001b[32m━━━━━━━━━━━━━━━━━━━━\u001b[0m\u001b[37m\u001b[0m \u001b[1m117s\u001b[0m 667ms/step - loss: 2.6764\n",
      "Epoch 21/50\n",
      "\u001b[1m176/176\u001b[0m \u001b[32m━━━━━━━━━━━━━━━━━━━━\u001b[0m\u001b[37m\u001b[0m \u001b[1m118s\u001b[0m 668ms/step - loss: 2.5802\n",
      "Epoch 22/50\n",
      "\u001b[1m176/176\u001b[0m \u001b[32m━━━━━━━━━━━━━━━━━━━━\u001b[0m\u001b[37m\u001b[0m \u001b[1m123s\u001b[0m 702ms/step - loss: 2.4699\n",
      "Epoch 23/50\n",
      "\u001b[1m176/176\u001b[0m \u001b[32m━━━━━━━━━━━━━━━━━━━━\u001b[0m\u001b[37m\u001b[0m \u001b[1m118s\u001b[0m 669ms/step - loss: 2.3836\n",
      "Epoch 24/50\n",
      "\u001b[1m176/176\u001b[0m \u001b[32m━━━━━━━━━━━━━━━━━━━━\u001b[0m\u001b[37m\u001b[0m \u001b[1m112s\u001b[0m 637ms/step - loss: 2.2967\n",
      "Epoch 25/50\n",
      "\u001b[1m176/176\u001b[0m \u001b[32m━━━━━━━━━━━━━━━━━━━━\u001b[0m\u001b[37m\u001b[0m \u001b[1m114s\u001b[0m 646ms/step - loss: 2.2204\n",
      "Epoch 26/50\n",
      "\u001b[1m176/176\u001b[0m \u001b[32m━━━━━━━━━━━━━━━━━━━━\u001b[0m\u001b[37m\u001b[0m \u001b[1m113s\u001b[0m 644ms/step - loss: 2.1305\n",
      "Epoch 27/50\n",
      "\u001b[1m176/176\u001b[0m \u001b[32m━━━━━━━━━━━━━━━━━━━━\u001b[0m\u001b[37m\u001b[0m \u001b[1m115s\u001b[0m 653ms/step - loss: 2.0286\n",
      "Epoch 28/50\n",
      "\u001b[1m176/176\u001b[0m \u001b[32m━━━━━━━━━━━━━━━━━━━━\u001b[0m\u001b[37m\u001b[0m \u001b[1m120s\u001b[0m 680ms/step - loss: 1.9352\n",
      "Epoch 29/50\n",
      "\u001b[1m176/176\u001b[0m \u001b[32m━━━━━━━━━━━━━━━━━━━━\u001b[0m\u001b[37m\u001b[0m \u001b[1m122s\u001b[0m 691ms/step - loss: 1.8858\n",
      "Epoch 30/50\n",
      "\u001b[1m176/176\u001b[0m \u001b[32m━━━━━━━━━━━━━━━━━━━━\u001b[0m\u001b[37m\u001b[0m \u001b[1m122s\u001b[0m 691ms/step - loss: 1.8192\n",
      "Epoch 31/50\n",
      "\u001b[1m176/176\u001b[0m \u001b[32m━━━━━━━━━━━━━━━━━━━━\u001b[0m\u001b[37m\u001b[0m \u001b[1m121s\u001b[0m 688ms/step - loss: 1.7034\n",
      "Epoch 32/50\n",
      "\u001b[1m176/176\u001b[0m \u001b[32m━━━━━━━━━━━━━━━━━━━━\u001b[0m\u001b[37m\u001b[0m \u001b[1m122s\u001b[0m 695ms/step - loss: 1.6635\n",
      "Epoch 33/50\n",
      "\u001b[1m176/176\u001b[0m \u001b[32m━━━━━━━━━━━━━━━━━━━━\u001b[0m\u001b[37m\u001b[0m \u001b[1m121s\u001b[0m 689ms/step - loss: 1.5576\n",
      "Epoch 34/50\n",
      "\u001b[1m176/176\u001b[0m \u001b[32m━━━━━━━━━━━━━━━━━━━━\u001b[0m\u001b[37m\u001b[0m \u001b[1m122s\u001b[0m 694ms/step - loss: 1.4778\n",
      "Epoch 35/50\n",
      "\u001b[1m176/176\u001b[0m \u001b[32m━━━━━━━━━━━━━━━━━━━━\u001b[0m\u001b[37m\u001b[0m \u001b[1m233s\u001b[0m 1s/step - loss: 1.4191\n",
      "Epoch 36/50\n",
      "\u001b[1m176/176\u001b[0m \u001b[32m━━━━━━━━━━━━━━━━━━━━\u001b[0m\u001b[37m\u001b[0m \u001b[1m240s\u001b[0m 1s/step - loss: 1.3480\n",
      "Epoch 37/50\n",
      "\u001b[1m176/176\u001b[0m \u001b[32m━━━━━━━━━━━━━━━━━━━━\u001b[0m\u001b[37m\u001b[0m \u001b[1m235s\u001b[0m 1s/step - loss: 1.2521\n",
      "Epoch 38/50\n",
      "\u001b[1m176/176\u001b[0m \u001b[32m━━━━━━━━━━━━━━━━━━━━\u001b[0m\u001b[37m\u001b[0m \u001b[1m223s\u001b[0m 1s/step - loss: 1.2093\n",
      "Epoch 39/50\n",
      "\u001b[1m176/176\u001b[0m \u001b[32m━━━━━━━━━━━━━━━━━━━━\u001b[0m\u001b[37m\u001b[0m \u001b[1m256s\u001b[0m 1s/step - loss: 1.1169\n",
      "Epoch 40/50\n",
      "\u001b[1m176/176\u001b[0m \u001b[32m━━━━━━━━━━━━━━━━━━━━\u001b[0m\u001b[37m\u001b[0m \u001b[1m399s\u001b[0m 2s/step - loss: 1.0662\n",
      "Epoch 41/50\n",
      "\u001b[1m176/176\u001b[0m \u001b[32m━━━━━━━━━━━━━━━━━━━━\u001b[0m\u001b[37m\u001b[0m \u001b[1m236s\u001b[0m 1s/step - loss: 0.9919\n",
      "Epoch 42/50\n",
      "\u001b[1m176/176\u001b[0m \u001b[32m━━━━━━━━━━━━━━━━━━━━\u001b[0m\u001b[37m\u001b[0m \u001b[1m232s\u001b[0m 1s/step - loss: 0.9411\n",
      "Epoch 43/50\n",
      "\u001b[1m176/176\u001b[0m \u001b[32m━━━━━━━━━━━━━━━━━━━━\u001b[0m\u001b[37m\u001b[0m \u001b[1m251s\u001b[0m 1s/step - loss: 0.9098\n",
      "Epoch 44/50\n",
      "\u001b[1m176/176\u001b[0m \u001b[32m━━━━━━━━━━━━━━━━━━━━\u001b[0m\u001b[37m\u001b[0m \u001b[1m1140s\u001b[0m 7s/step - loss: 0.8445\n",
      "Epoch 45/50\n",
      "\u001b[1m176/176\u001b[0m \u001b[32m━━━━━━━━━━━━━━━━━━━━\u001b[0m\u001b[37m\u001b[0m \u001b[1m209s\u001b[0m 1s/step - loss: 0.7525\n",
      "Epoch 46/50\n",
      "\u001b[1m176/176\u001b[0m \u001b[32m━━━━━━━━━━━━━━━━━━━━\u001b[0m\u001b[37m\u001b[0m \u001b[1m209s\u001b[0m 1s/step - loss: 0.7038\n",
      "Epoch 47/50\n",
      "\u001b[1m176/176\u001b[0m \u001b[32m━━━━━━━━━━━━━━━━━━━━\u001b[0m\u001b[37m\u001b[0m \u001b[1m210s\u001b[0m 1s/step - loss: 0.6575\n",
      "Epoch 48/50\n",
      "\u001b[1m176/176\u001b[0m \u001b[32m━━━━━━━━━━━━━━━━━━━━\u001b[0m\u001b[37m\u001b[0m \u001b[1m209s\u001b[0m 1s/step - loss: 0.6118\n",
      "Epoch 49/50\n",
      "\u001b[1m176/176\u001b[0m \u001b[32m━━━━━━━━━━━━━━━━━━━━\u001b[0m\u001b[37m\u001b[0m \u001b[1m209s\u001b[0m 1s/step - loss: 0.5597\n",
      "Epoch 50/50\n",
      "\u001b[1m176/176\u001b[0m \u001b[32m━━━━━━━━━━━━━━━━━━━━\u001b[0m\u001b[37m\u001b[0m \u001b[1m209s\u001b[0m 1s/step - loss: 0.5109\n"
     ]
    },
    {
     "data": {
      "text/plain": [
       "<keras.src.callbacks.history.History at 0x2979a1a10>"
      ]
     },
     "execution_count": 11,
     "metadata": {},
     "output_type": "execute_result"
    }
   ],
   "source": [
    "sequence_length = 100\n",
    "network_input = []\n",
    "network_output = []\n",
    "\n",
    "for i in range(0, len(all_notes) - sequence_length, 1):\n",
    "    sequence_in = all_notes[i:i + sequence_length]\n",
    "    sequence_out = all_notes[i + sequence_length]\n",
    "    network_input.append([note_to_int[char] for char in sequence_in])\n",
    "    network_output.append(note_to_int[sequence_out])\n",
    "\n",
    "n_patterns = len(network_input)\n",
    "n_vocab = len(unique_notes)\n",
    "\n",
    "network_input = np.reshape(network_input, (n_patterns, sequence_length, 1))\n",
    "network_input = network_input / float(n_vocab)\n",
    "network_output = to_categorical(network_output)\n",
    "\n",
    "# Build and start training sequential model ( also used in emotion classification)\n",
    "model = Sequential([\n",
    "    LSTM(256, input_shape=(network_input.shape[1], network_input.shape[2]), return_sequences=True),\n",
    "    Dropout(0.3),\n",
    "    LSTM(512, return_sequences=True),\n",
    "    Dropout(0.3),\n",
    "    LSTM(256),\n",
    "    Dense(256),\n",
    "    Dropout(0.3),\n",
    "    Dense(n_vocab, activation='softmax')\n",
    "])\n",
    "\n",
    "model.compile(loss='categorical_crossentropy', optimizer='rmsprop')\n",
    "\n",
    "model.fit(network_input, network_output, epochs=50, batch_size=64)"
   ]
  },
  {
   "cell_type": "code",
   "execution_count": 16,
   "id": "d1adf7f8",
   "metadata": {},
   "outputs": [],
   "source": [
    "def generate_notes(model, network_input, unique_notes, n_vocab, num_notes=500):\n",
    "    start = np.random.randint(0, len(network_input)-1)\n",
    "    int_to_note = dict((number, note) for number, note in enumerate(unique_notes))\n",
    "    pattern = network_input[start]\n",
    "    prediction_output = []\n",
    "\n",
    "    for _ in range(num_notes):\n",
    "        prediction_input = np.reshape(pattern, (1, len(pattern), 1))\n",
    "        prediction_input = prediction_input / float(n_vocab)\n",
    "        prediction = model.predict(prediction_input, verbose=0)\n",
    "        index = np.argmax(prediction)\n",
    "        result = int_to_note[index]\n",
    "        prediction_output.append(result)\n",
    "        pattern = np.append(pattern, index)\n",
    "        pattern = pattern[1:]\n",
    "\n",
    "    return prediction_output\n",
    "\n",
    "def create_midi(prediction_output, filename):\n",
    "    offset = 0\n",
    "    output_notes = []\n",
    "\n",
    "    for pattern in prediction_output:\n",
    "        if ('.' in pattern) or pattern.isdigit():\n",
    "            notes_in_chord = pattern.split('.')\n",
    "            notes = []\n",
    "            for current_note in notes_in_chord:\n",
    "                new_note = note.Note(int(current_note))\n",
    "                new_note.storedInstrument = instrument.Piano()\n",
    "                notes.append(new_note)\n",
    "            new_chord = chord.Chord(notes)\n",
    "            new_chord.offset = offset\n",
    "            output_notes.append(new_chord)\n",
    "        else:\n",
    "            new_note = note.Note(pattern)\n",
    "            new_note.offset = offset\n",
    "            new_note.storedInstrument = instrument.Piano()\n",
    "            output_notes.append(new_note)\n",
    "\n",
    "        offset += 0.5\n",
    "\n",
    "    midi_stream = stream.Stream(output_notes)\n",
    "    midi_stream.write('midi', fp=filename)\n",
    "\n",
    "# Generate music for each emotion\n",
    "emotions = ['happy', 'sad', 'angry', 'neutral']\n",
    "for emotion in emotions:\n",
    "    generated_notes = generate_notes(model, network_input, unique_notes, n_vocab)\n",
    "    create_midi(generated_notes, f'{emotion}_generated_music.mid')"
   ]
  },
  {
   "cell_type": "code",
   "execution_count": 18,
   "id": "21d54a57",
   "metadata": {},
   "outputs": [],
   "source": [
    "X_train, X_val, y_train, y_val = train_test_split(network_input, network_output, test_size=0.2, random_state=42)"
   ]
  },
  {
   "cell_type": "code",
   "execution_count": 19,
   "id": "2015464b",
   "metadata": {},
   "outputs": [
    {
     "name": "stdout",
     "output_type": "stream",
     "text": [
      "\u001b[1m71/71\u001b[0m \u001b[32m━━━━━━━━━━━━━━━━━━━━\u001b[0m\u001b[37m\u001b[0m \u001b[1m16s\u001b[0m 225ms/step - loss: 0.3005\n",
      "Validation loss: 0.2995627820491791\n"
     ]
    }
   ],
   "source": [
    "# Assuming you've split your data into training and validation sets\n",
    "val_loss = model.evaluate(X_val, y_val)\n",
    "print(f\"Validation loss: {val_loss}\")"
   ]
  },
  {
   "cell_type": "markdown",
   "id": "1bcecb23",
   "metadata": {},
   "source": [
    "### Analyse generated music"
   ]
  },
  {
   "cell_type": "code",
   "execution_count": 20,
   "id": "bc0cd380",
   "metadata": {},
   "outputs": [
    {
     "name": "stderr",
     "output_type": "stream",
     "text": [
      "/Users/nixi/Desktop/Final-thesis-folder-24/.conda/lib/python3.11/site-packages/music21/stream/base.py:3694: Music21DeprecationWarning: .flat is deprecated.  Call .flatten() instead\n",
      "  return self.iter().getElementsByClass(classFilterList)\n"
     ]
    },
    {
     "name": "stdout",
     "output_type": "stream",
     "text": [
      "Analysis for happy_generated_music.mid:\n",
      "Total notes: 563\n",
      "Unique notes: 17\n",
      "Most common note: C4 (occurred 33 times)\n",
      "Average note duration: 0.87 quarter notes\n",
      "\n",
      "\n",
      "Analysis for sad_generated_music.mid:\n",
      "Total notes: 563\n",
      "Unique notes: 17\n",
      "Most common note: C4 (occurred 33 times)\n",
      "Average note duration: 0.87 quarter notes\n",
      "\n",
      "\n",
      "Analysis for angry_generated_music.mid:\n",
      "Total notes: 563\n",
      "Unique notes: 17\n",
      "Most common note: C4 (occurred 33 times)\n",
      "Average note duration: 0.87 quarter notes\n",
      "\n",
      "\n",
      "Analysis for neutral_generated_music.mid:\n",
      "Total notes: 563\n",
      "Unique notes: 17\n",
      "Most common note: C4 (occurred 33 times)\n",
      "Average note duration: 0.87 quarter notes\n",
      "\n",
      "\n"
     ]
    }
   ],
   "source": [
    "def analyze_midi(filename):\n",
    "    midi = converter.parse(filename)\n",
    "    notes = midi.flat.notesAndRests\n",
    "    \n",
    "    note_counts = {}\n",
    "    durations = []\n",
    "    \n",
    "    for element in notes:\n",
    "        if isinstance(element, note.Note):\n",
    "            pitch = str(element.pitch)\n",
    "            if pitch in note_counts:\n",
    "                note_counts[pitch] += 1\n",
    "            else:\n",
    "                note_counts[pitch] = 1\n",
    "            durations.append(element.duration.quarterLength)\n",
    "    \n",
    "    avg_duration = sum(durations) / len(durations)\n",
    "    most_common_note = max(note_counts, key=note_counts.get)\n",
    "    \n",
    "    print(f\"Analysis for {filename}:\")\n",
    "    print(f\"Total notes: {len(notes)}\")\n",
    "    print(f\"Unique notes: {len(note_counts)}\")\n",
    "    print(f\"Most common note: {most_common_note} (occurred {note_counts[most_common_note]} times)\")\n",
    "    print(f\"Average note duration: {avg_duration:.2f} quarter notes\")\n",
    "    print(\"\\n\")\n",
    "\n",
    "# Analyze each generated MIDI file\n",
    "for emotion in emotions:\n",
    "    analyze_midi(f'{emotion}_generated_music.mid')"
   ]
  },
  {
   "cell_type": "markdown",
   "id": "f6d5a374",
   "metadata": {},
   "source": [
    "### Visualize note distributions"
   ]
  },
  {
   "cell_type": "code",
   "execution_count": null,
   "id": "49078856",
   "metadata": {},
   "outputs": [],
   "source": [
    "import matplotlib.pyplot as plt\n",
    "\n",
    "def plot_note_distribution(filename):\n",
    "    midi = converter.parse(filename)\n",
    "    notes = [str(n.pitch) for n in midi.flat.notes if isinstance(n, note.Note)]\n",
    "    \n",
    "    note_counts = {}\n",
    "    for note in notes:\n",
    "        if note in note_counts:\n",
    "            note_counts[note] += 1\n",
    "        else:\n",
    "            note_counts[note] = 1\n",
    "    \n",
    "    sorted_counts = sorted(note_counts.items(), key=lambda x: x[1], reverse=True)\n",
    "    notes, counts = zip(*sorted_counts[:20])  # Top 20 notes\n",
    "    \n",
    "    plt.figure(figsize=(12, 6))\n",
    "    plt.bar(notes, counts)\n",
    "    plt.title(f'Note Distribution for {filename}')\n",
    "    plt.xlabel('Notes')\n",
    "    plt.ylabel('Frequency')\n",
    "    plt.xticks(rotation=45)\n",
    "    plt.tight_layout()\n",
    "    plt.show()\n",
    "\n",
    "# Plot note distribution for each generated MIDI file\n",
    "for emotion in emotions:\n",
    "    plot_note_distribution(f'{emotion}_generated_music.mid')"
   ]
  },
  {
   "cell_type": "markdown",
   "id": "8dc77229",
   "metadata": {},
   "source": [
    "### Compare music to original dataset"
   ]
  },
  {
   "cell_type": "code",
   "execution_count": null,
   "id": "f02a866f",
   "metadata": {},
   "outputs": [],
   "source": [
    "def compare_to_original(original_notes, generated_files):\n",
    "    original_note_counts = {}\n",
    "    for note in original_notes:\n",
    "        if note in original_note_counts:\n",
    "            original_note_counts[note] += 1\n",
    "        else:\n",
    "            original_note_counts[note] = 1\n",
    "\n",
    "    print(\"Comparison to original dataset:\")\n",
    "    for file in generated_files:\n",
    "        generated_midi = converter.parse(file)\n",
    "        generated_notes = [str(n.pitch) for n in generated_midi.flat.notes if isinstance(n, note.Note)]\n",
    "        \n",
    "        generated_note_counts = {}\n",
    "        for note in generated_notes:\n",
    "            if note in generated_note_counts:\n",
    "                generated_note_counts[note] += 1\n",
    "            else:\n",
    "                generated_note_counts[note] = 1\n",
    "\n",
    "        # Calculate Jaccard similarity\n",
    "        intersection = set(original_note_counts.keys()) & set(generated_note_counts.keys())\n",
    "        union = set(original_note_counts.keys()) | set(generated_note_counts.keys())\n",
    "        jaccard_similarity = len(intersection) / len(union)\n",
    "\n",
    "        print(f\"\\nFile: {file}\")\n",
    "        print(f\"Jaccard similarity: {jaccard_similarity:.4f}\")\n",
    "        print(f\"Notes in original but not in generated: {len(set(original_note_counts.keys()) - set(generated_note_counts.keys()))}\")\n",
    "        print(f\"Notes in generated but not in original: {len(set(generated_note_counts.keys()) - set(original_note_counts.keys()))}\")\n",
    "\n",
    "# Compare generated music to original dataset\n",
    "generated_files = [f'{emotion}_generated_music.mid' for emotion in emotions]\n",
    "compare_to_original(all_notes, generated_files)"
   ]
  }
 ],
 "metadata": {
  "kernelspec": {
   "display_name": "Python 3 (ipykernel)",
   "language": "python",
   "name": "python3"
  },
  "language_info": {
   "codemirror_mode": {
    "name": "ipython",
    "version": 3
   },
   "file_extension": ".py",
   "mimetype": "text/x-python",
   "name": "python",
   "nbconvert_exporter": "python",
   "pygments_lexer": "ipython3",
   "version": "3.11.9"
  }
 },
 "nbformat": 4,
 "nbformat_minor": 5
}
