{
 "cells": [
  {
   "cell_type": "markdown",
   "metadata": {},
   "source": [
    "# 2. Data sheet for class images"
   ]
  },
  {
   "cell_type": "code",
   "execution_count": 1,
   "metadata": {},
   "outputs": [
    {
     "name": "stdout",
     "output_type": "stream",
     "text": [
      "Collecting pandas\n",
      "  Downloading pandas-2.2.2-cp311-cp311-macosx_11_0_arm64.whl.metadata (19 kB)\n",
      "Collecting numpy>=1.23.2 (from pandas)\n",
      "  Downloading numpy-2.1.1-cp311-cp311-macosx_11_0_arm64.whl.metadata (114 kB)\n",
      "Requirement already satisfied: python-dateutil>=2.8.2 in /Users/nixi/Desktop/Final-thesis-folder-24/.conda/lib/python3.11/site-packages (from pandas) (2.9.0)\n",
      "Collecting pytz>=2020.1 (from pandas)\n",
      "  Using cached pytz-2024.1-py2.py3-none-any.whl.metadata (22 kB)\n",
      "Collecting tzdata>=2022.7 (from pandas)\n",
      "  Using cached tzdata-2024.1-py2.py3-none-any.whl.metadata (1.4 kB)\n",
      "Requirement already satisfied: six>=1.5 in /Users/nixi/Desktop/Final-thesis-folder-24/.conda/lib/python3.11/site-packages (from python-dateutil>=2.8.2->pandas) (1.16.0)\n",
      "Downloading pandas-2.2.2-cp311-cp311-macosx_11_0_arm64.whl (11.3 MB)\n",
      "\u001b[2K   \u001b[90m━━━━━━━━━━━━━━━━━━━━━━━━━━━━━━━━━━━━━━━━\u001b[0m \u001b[32m11.3/11.3 MB\u001b[0m \u001b[31m3.8 MB/s\u001b[0m eta \u001b[36m0:00:00\u001b[0ma \u001b[36m0:00:01\u001b[0m\n",
      "\u001b[?25hDownloading numpy-2.1.1-cp311-cp311-macosx_11_0_arm64.whl (13.8 MB)\n",
      "\u001b[2K   \u001b[90m━━━━━━━━━━━━━━━━━━━━━━━━━━━━━━━━━━━━━━━━\u001b[0m \u001b[32m13.8/13.8 MB\u001b[0m \u001b[31m5.2 MB/s\u001b[0m eta \u001b[36m0:00:00\u001b[0m00:01\u001b[0m00:01\u001b[0m\n",
      "\u001b[?25hUsing cached pytz-2024.1-py2.py3-none-any.whl (505 kB)\n",
      "Using cached tzdata-2024.1-py2.py3-none-any.whl (345 kB)\n",
      "Installing collected packages: pytz, tzdata, numpy, pandas\n",
      "Successfully installed numpy-2.1.1 pandas-2.2.2 pytz-2024.1 tzdata-2024.1\n",
      "Note: you may need to restart the kernel to use updated packages.\n"
     ]
    }
   ],
   "source": [
    "%pip install pandas \n"
   ]
  },
  {
   "cell_type": "code",
   "execution_count": 2,
   "metadata": {
    "execution": {
     "iopub.execute_input": "2024-09-04T21:57:27.468299Z",
     "iopub.status.busy": "2024-09-04T21:57:27.466991Z",
     "iopub.status.idle": "2024-09-04T21:57:28.408772Z",
     "shell.execute_reply": "2024-09-04T21:57:28.407639Z",
     "shell.execute_reply.started": "2024-09-04T21:57:27.468240Z"
    }
   },
   "outputs": [],
   "source": [
    "import os\n",
    "import pandas as pd\n",
    "\n",
    "# Define the directory where images are saved, with each emotional class in a separate folder\n",
    "data_directory = '/Users/nixi/Desktop/Final-thesis-folder-24/AI-for-Media-project-23-24/my-classification-dataset'\n",
    "\n",
    "# Initialize an empty list to store image data\n",
    "all_data = []\n",
    "\n",
    "# Iterate through each emotional class directory\n",
    "for emotion_class in os.listdir(data_directory):\n",
    "    emotion_dir = os.path.join(data_directory, emotion_class)\n",
    "    if os.path.isdir(emotion_dir):\n",
    "        # Iterate through image files in the emotional class directory\n",
    "        for image_file in os.listdir(emotion_dir):\n",
    "            # Assuming file names contain relevant information\n",
    "            # Extract image URL and other metadata as needed\n",
    "            image_url = os.path.join(emotion_dir, image_file)\n",
    "            # Append extracted data to the list\n",
    "            all_data.append({\"Image URL\": f'file://{image_url}', \"Emotional Class\": emotion_class})\n",
    "\n",
    "# Create a DataFrame from all data\n",
    "df = pd.DataFrame(all_data)\n",
    "\n",
    "# Export the DataFrame to a CSV file\n",
    "csv_file_path = \"primarydataset.csv\"\n",
    "df.to_csv(csv_file_path, index=False)"
   ]
  },
  {
   "cell_type": "code",
   "execution_count": 3,
   "metadata": {
    "execution": {
     "iopub.execute_input": "2024-09-05T11:44:22.798091Z",
     "iopub.status.busy": "2024-09-05T11:44:22.797836Z",
     "iopub.status.idle": "2024-09-05T11:44:22.933783Z",
     "shell.execute_reply": "2024-09-05T11:44:22.932979Z",
     "shell.execute_reply.started": "2024-09-05T11:44:22.798071Z"
    }
   },
   "outputs": [
    {
     "name": "stdout",
     "output_type": "stream",
     "text": [
      "                                              Image URL Emotional Class\n",
      "0     file:///Users/nixi/Desktop/Final-thesis-folder...    neutral-face\n",
      "1     file:///Users/nixi/Desktop/Final-thesis-folder...    neutral-face\n",
      "2     file:///Users/nixi/Desktop/Final-thesis-folder...    neutral-face\n",
      "3     file:///Users/nixi/Desktop/Final-thesis-folder...    neutral-face\n",
      "4     file:///Users/nixi/Desktop/Final-thesis-folder...    neutral-face\n",
      "...                                                 ...             ...\n",
      "5712  file:///Users/nixi/Desktop/Final-thesis-folder...      angry-face\n",
      "5713  file:///Users/nixi/Desktop/Final-thesis-folder...      angry-face\n",
      "5714  file:///Users/nixi/Desktop/Final-thesis-folder...      angry-face\n",
      "5715  file:///Users/nixi/Desktop/Final-thesis-folder...      angry-face\n",
      "5716  file:///Users/nixi/Desktop/Final-thesis-folder...      angry-face\n",
      "\n",
      "[5717 rows x 2 columns]\n"
     ]
    }
   ],
   "source": [
    "# Verify the DataFrame\n",
    "df = pd.read_csv('/Users/nixi/Desktop/Final-thesis-folder-24/AI-for-Media-project-23-24/primarydataset.csv')\n",
    "\n",
    "# Specify the data types for each column\n",
    "dtype = {'Column1': str, 'Column2': int}  # Update 'Column1' and 'Column2' with your actual column names and data types\n",
    "\n",
    "# Read the CSV file with specified data types\n",
    "df = pd.read_csv('/Users/nixi/Desktop/Final-thesis-folder-24/AI-for-Media-project-23-24/primarydataset.csv', dtype=dtype)\n",
    "# Display the DataFrame\n",
    "print(df)"
   ]
  }
 ],
 "metadata": {
  "kernelspec": {
   "display_name": "Python 3 (ipykernel)",
   "language": "python",
   "name": "python3"
  },
  "language_info": {
   "codemirror_mode": {
    "name": "ipython",
    "version": 3
   },
   "file_extension": ".py",
   "mimetype": "text/x-python",
   "name": "python",
   "nbconvert_exporter": "python",
   "pygments_lexer": "ipython3",
   "version": "3.11.9"
  }
 },
 "nbformat": 4,
 "nbformat_minor": 4
}
