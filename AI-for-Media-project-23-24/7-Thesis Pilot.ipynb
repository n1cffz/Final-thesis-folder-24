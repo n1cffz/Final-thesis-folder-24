{
 "cells": [
  {
   "cell_type": "markdown",
   "id": "2ea49ddb-1079-458b-b80d-635002402298",
   "metadata": {},
   "source": [
    "### Pilot study (August)"
   ]
  },
  {
   "cell_type": "code",
   "execution_count": null,
   "id": "3f64f18a-2382-4c85-bdbb-14a35f6460ec",
   "metadata": {},
   "outputs": [],
   "source": []
  }
 ],
 "metadata": {
  "kernelspec": {
   "display_name": "Python 3 (ipykernel)",
   "language": "python",
   "name": "python3"
  },
  "language_info": {
   "codemirror_mode": {
    "name": "ipython",
    "version": 3
   },
   "file_extension": ".py",
   "mimetype": "text/x-python",
   "name": "python",
   "nbconvert_exporter": "python",
   "pygments_lexer": "ipython3",
   "version": "3.9.16"
  }
 },
 "nbformat": 4,
 "nbformat_minor": 5
}
